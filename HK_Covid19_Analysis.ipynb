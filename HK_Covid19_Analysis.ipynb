{
  "nbformat": 4,
  "nbformat_minor": 0,
  "metadata": {
    "colab": {
      "name": "HK Covid19 Analysis.ipynb",
      "provenance": [],
      "collapsed_sections": [],
      "toc_visible": true,
      "mount_file_id": "1_oVM16RqLVdUgUmafGL3frwb55yYuByo",
      "authorship_tag": "ABX9TyNnhh7m1DvCJpeITXXA/g/g",
      "include_colab_link": true
    },
    "kernelspec": {
      "name": "python3",
      "display_name": "Python 3"
    }
  },
  "cells": [
    {
      "cell_type": "markdown",
      "metadata": {
        "id": "view-in-github",
        "colab_type": "text"
      },
      "source": [
        "<a href=\"https://colab.research.google.com/github/charlieskc/MachineLearning/blob/master/HK_Covid19_Analysis.ipynb\" target=\"_parent\"><img src=\"https://colab.research.google.com/assets/colab-badge.svg\" alt=\"Open In Colab\"/></a>"
      ]
    },
    {
      "cell_type": "markdown",
      "metadata": {
        "id": "751j_ENVEZjE",
        "colab_type": "text"
      },
      "source": [
        "#Hong Kong COVID-19 Analysis (based on age group)\n",
        "\n",
        "Data downloaded from: http://www.chp.gov.hk/files/misc/enhanced_sur_covid_19_eng.csv\n",
        "\n",
        "There are many statistics about COVID-19 in Hong Kong however there are not much statistic based on age group. This notebook aims to provide COVID-10 mortality statistics based on age group.\n",
        "\n"
      ]
    },
    {
      "cell_type": "code",
      "metadata": {
        "id": "A8iMQL-sC3-l",
        "colab_type": "code",
        "colab": {
          "base_uri": "https://localhost:8080/",
          "height": 374
        },
        "outputId": "4e938b43-d9d7-469a-d450-27b78b3e67b0"
      },
      "source": [
        "#dataset refresh everyday from the website\n",
        "!rm enhanced_sur_covid_19_eng.csv*\n",
        "!wget http://www.chp.gov.hk/files/misc/enhanced_sur_covid_19_eng.csv\n",
        "#!wget http://www.chp.gov.hk/files/misc/latest_situation_of_reported_cases_covid_19_eng.csv\n",
        "!ls -lh\n",
        "!wc -l enhanced_sur_covid_19_eng.csv"
      ],
      "execution_count": 1,
      "outputs": [
        {
          "output_type": "stream",
          "text": [
            "rm: cannot remove 'enhanced_sur_covid_19_eng.csv*': No such file or directory\n",
            "--2020-08-11 03:11:03--  http://www.chp.gov.hk/files/misc/enhanced_sur_covid_19_eng.csv\n",
            "Resolving www.chp.gov.hk (www.chp.gov.hk)... 104.19.253.59, 104.19.254.59, 2606:4700::6813:fd3b, ...\n",
            "Connecting to www.chp.gov.hk (www.chp.gov.hk)|104.19.253.59|:80... connected.\n",
            "HTTP request sent, awaiting response... 301 Moved Permanently\n",
            "Location: https://www.chp.gov.hk/files/misc/enhanced_sur_covid_19_eng.csv [following]\n",
            "--2020-08-11 03:11:03--  https://www.chp.gov.hk/files/misc/enhanced_sur_covid_19_eng.csv\n",
            "Connecting to www.chp.gov.hk (www.chp.gov.hk)|104.19.253.59|:443... connected.\n",
            "HTTP request sent, awaiting response... 200 OK\n",
            "Length: unspecified [text/csv]\n",
            "Saving to: ‘enhanced_sur_covid_19_eng.csv’\n",
            "\n",
            "enhanced_sur_covid_     [ <=>                ] 377.62K  --.-KB/s    in 0.04s   \n",
            "\n",
            "2020-08-11 03:11:04 (9.94 MB/s) - ‘enhanced_sur_covid_19_eng.csv’ saved [386686]\n",
            "\n",
            "total 388K\n",
            "drwx------ 4 root root 4.0K Aug 11 03:10 drive\n",
            "-rw-r--r-- 1 root root 378K Aug 10 15:56 enhanced_sur_covid_19_eng.csv\n",
            "drwxr-xr-x 1 root root 4.0K Jul 30 16:30 sample_data\n",
            "4150 enhanced_sur_covid_19_eng.csv\n"
          ],
          "name": "stdout"
        }
      ]
    },
    {
      "cell_type": "markdown",
      "metadata": {
        "id": "j0B4xzukRxDM",
        "colab_type": "text"
      },
      "source": [
        "# Import Packages"
      ]
    },
    {
      "cell_type": "code",
      "metadata": {
        "id": "2oBeTR5Ic21U",
        "colab_type": "code",
        "colab": {
          "base_uri": "https://localhost:8080/",
          "height": 71
        },
        "outputId": "60f5c21d-1e50-4ce4-8310-55409d73d7d7"
      },
      "source": [
        "'''\n",
        "Normally you do not need to install pandas, uncomment if pandas is missing\n",
        "'''\n",
        "#install pandas \n",
        "#!pip install pandas\n",
        "\n",
        "#load packages\n",
        "import sys \n",
        "import pandas as pd \n",
        "import matplotlib \n",
        "import numpy as np \n",
        "import scipy as sp \n",
        "import IPython\n",
        "import datetime\n",
        "from IPython.display import display\n",
        "\n",
        "#Visualization\n",
        "import matplotlib as mpl\n",
        "import matplotlib.pyplot as plt\n",
        "import matplotlib.pylab as pylab\n",
        "import seaborn as sns\n",
        "from pandas.plotting import scatter_matrix\n",
        "\n",
        "#Configure Visualization Defaults\n",
        "#%matplotlib inline = show plots in Jupyter Notebook browser\n",
        "%matplotlib inline\n",
        "mpl.style.use('ggplot')\n",
        "sns.set_style('white')\n",
        "pylab.rcParams['figure.figsize'] = 12,8\n"
      ],
      "execution_count": 2,
      "outputs": [
        {
          "output_type": "stream",
          "text": [
            "/usr/local/lib/python3.6/dist-packages/statsmodels/tools/_testing.py:19: FutureWarning: pandas.util.testing is deprecated. Use the functions in the public API at pandas.testing instead.\n",
            "  import pandas.util.testing as tm\n"
          ],
          "name": "stderr"
        }
      ]
    },
    {
      "cell_type": "markdown",
      "metadata": {
        "id": "2OtRpnBHSZEj",
        "colab_type": "text"
      },
      "source": [
        "# Load Data Files\n",
        "\n",
        "##Age group engineering:\n",
        "1. Age is categorized into age_bins. Grouping based on WHO https://www.who.int/healthinfo/paper31.pdf?ua=1\n"
      ]
    },
    {
      "cell_type": "code",
      "metadata": {
        "id": "tV16IYqsKI-K",
        "colab_type": "code",
        "colab": {
          "base_uri": "https://localhost:8080/",
          "height": 357
        },
        "outputId": "56f91221-d733-486f-a8b5-69306272c881"
      },
      "source": [
        "df = pd.read_csv('/content/enhanced_sur_covid_19_eng.csv')\n",
        "df['Report date'] =  pd.to_datetime(df['Report date'], format='%d/%m/%Y')\n",
        "\n",
        "#df1 = pd.read_csv('/content/latest_situation_of_reported_cases_covid_19_eng.csv')\n",
        "\n",
        "#categorize age into age group. age group based on WHO https://www.who.int/healthinfo/paper31.pdf?ua=1\n",
        "ageBin= [0,4,9,14,19,24,29,34,39,44,49,54,59,64,69,74,79,84,89,94,99,104]\n",
        "df['age_bins'] = pd.cut(x=df['Age'], bins=ageBin)\n",
        "\n",
        "#preview data\n",
        "df.sample(5) \n",
        "\n",
        "#print(df.dtypes)"
      ],
      "execution_count": 3,
      "outputs": [
        {
          "output_type": "execute_result",
          "data": {
            "text/html": [
              "<div>\n",
              "<style scoped>\n",
              "    .dataframe tbody tr th:only-of-type {\n",
              "        vertical-align: middle;\n",
              "    }\n",
              "\n",
              "    .dataframe tbody tr th {\n",
              "        vertical-align: top;\n",
              "    }\n",
              "\n",
              "    .dataframe thead th {\n",
              "        text-align: right;\n",
              "    }\n",
              "</style>\n",
              "<table border=\"1\" class=\"dataframe\">\n",
              "  <thead>\n",
              "    <tr style=\"text-align: right;\">\n",
              "      <th></th>\n",
              "      <th>Case no.</th>\n",
              "      <th>Report date</th>\n",
              "      <th>Date of onset</th>\n",
              "      <th>Gender</th>\n",
              "      <th>Age</th>\n",
              "      <th>Name of hospital admitted</th>\n",
              "      <th>Hospitalised/Discharged/Deceased</th>\n",
              "      <th>HK/Non-HK resident</th>\n",
              "      <th>Case classification*</th>\n",
              "      <th>Confirmed/probable</th>\n",
              "      <th>age_bins</th>\n",
              "    </tr>\n",
              "  </thead>\n",
              "  <tbody>\n",
              "    <tr>\n",
              "      <th>3545</th>\n",
              "      <td>3546</td>\n",
              "      <td>2020-08-03</td>\n",
              "      <td>31/07/2020</td>\n",
              "      <td>M</td>\n",
              "      <td>60</td>\n",
              "      <td>NaN</td>\n",
              "      <td>Hospitalised</td>\n",
              "      <td>HK Resident</td>\n",
              "      <td>Epidemiologically linked with local case</td>\n",
              "      <td>Confirmed</td>\n",
              "      <td>(59, 64]</td>\n",
              "    </tr>\n",
              "    <tr>\n",
              "      <th>4123</th>\n",
              "      <td>4124</td>\n",
              "      <td>2020-08-10</td>\n",
              "      <td>02/08/2020</td>\n",
              "      <td>F</td>\n",
              "      <td>24</td>\n",
              "      <td>NaN</td>\n",
              "      <td>To be provided</td>\n",
              "      <td>HK Resident</td>\n",
              "      <td>Epidemiologically linked with local case</td>\n",
              "      <td>Confirmed</td>\n",
              "      <td>(19, 24]</td>\n",
              "    </tr>\n",
              "    <tr>\n",
              "      <th>2772</th>\n",
              "      <td>2773</td>\n",
              "      <td>2020-07-27</td>\n",
              "      <td>22/07/2020</td>\n",
              "      <td>F</td>\n",
              "      <td>42</td>\n",
              "      <td>NaN</td>\n",
              "      <td>Discharged</td>\n",
              "      <td>HK Resident</td>\n",
              "      <td>Local case</td>\n",
              "      <td>Confirmed</td>\n",
              "      <td>(39, 44]</td>\n",
              "    </tr>\n",
              "    <tr>\n",
              "      <th>3464</th>\n",
              "      <td>3465</td>\n",
              "      <td>2020-08-02</td>\n",
              "      <td>29/07/2020</td>\n",
              "      <td>F</td>\n",
              "      <td>61</td>\n",
              "      <td>NaN</td>\n",
              "      <td>Hospitalised</td>\n",
              "      <td>HK Resident</td>\n",
              "      <td>Local case</td>\n",
              "      <td>Confirmed</td>\n",
              "      <td>(59, 64]</td>\n",
              "    </tr>\n",
              "    <tr>\n",
              "      <th>519</th>\n",
              "      <td>520</td>\n",
              "      <td>2020-03-28</td>\n",
              "      <td>19/03/2020</td>\n",
              "      <td>F</td>\n",
              "      <td>35</td>\n",
              "      <td>NaN</td>\n",
              "      <td>Discharged</td>\n",
              "      <td>HK resident</td>\n",
              "      <td>Imported case</td>\n",
              "      <td>Confirmed</td>\n",
              "      <td>(34, 39]</td>\n",
              "    </tr>\n",
              "  </tbody>\n",
              "</table>\n",
              "</div>"
            ],
            "text/plain": [
              "      Case no. Report date  ... Confirmed/probable  age_bins\n",
              "3545      3546  2020-08-03  ...          Confirmed  (59, 64]\n",
              "4123      4124  2020-08-10  ...          Confirmed  (19, 24]\n",
              "2772      2773  2020-07-27  ...          Confirmed  (39, 44]\n",
              "3464      3465  2020-08-02  ...          Confirmed  (59, 64]\n",
              "519        520  2020-03-28  ...          Confirmed  (34, 39]\n",
              "\n",
              "[5 rows x 11 columns]"
            ]
          },
          "metadata": {
            "tags": []
          },
          "execution_count": 3
        }
      ]
    },
    {
      "cell_type": "markdown",
      "metadata": {
        "id": "qfo0zWMPav1H",
        "colab_type": "text"
      },
      "source": [
        "# Data Description"
      ]
    },
    {
      "cell_type": "code",
      "metadata": {
        "id": "Cw-mPNGP28GU",
        "colab_type": "code",
        "colab": {
          "base_uri": "https://localhost:8080/",
          "height": 608
        },
        "outputId": "5af66923-61b3-4392-996b-0a3ff6d6bbf2"
      },
      "source": [
        "df.describe(include = 'all')\n"
      ],
      "execution_count": 4,
      "outputs": [
        {
          "output_type": "execute_result",
          "data": {
            "text/html": [
              "<div>\n",
              "<style scoped>\n",
              "    .dataframe tbody tr th:only-of-type {\n",
              "        vertical-align: middle;\n",
              "    }\n",
              "\n",
              "    .dataframe tbody tr th {\n",
              "        vertical-align: top;\n",
              "    }\n",
              "\n",
              "    .dataframe thead th {\n",
              "        text-align: right;\n",
              "    }\n",
              "</style>\n",
              "<table border=\"1\" class=\"dataframe\">\n",
              "  <thead>\n",
              "    <tr style=\"text-align: right;\">\n",
              "      <th></th>\n",
              "      <th>Case no.</th>\n",
              "      <th>Report date</th>\n",
              "      <th>Date of onset</th>\n",
              "      <th>Gender</th>\n",
              "      <th>Age</th>\n",
              "      <th>Name of hospital admitted</th>\n",
              "      <th>Hospitalised/Discharged/Deceased</th>\n",
              "      <th>HK/Non-HK resident</th>\n",
              "      <th>Case classification*</th>\n",
              "      <th>Confirmed/probable</th>\n",
              "      <th>age_bins</th>\n",
              "    </tr>\n",
              "  </thead>\n",
              "  <tbody>\n",
              "    <tr>\n",
              "      <th>count</th>\n",
              "      <td>4149.000000</td>\n",
              "      <td>4149</td>\n",
              "      <td>4149</td>\n",
              "      <td>4149</td>\n",
              "      <td>4149.000000</td>\n",
              "      <td>0.0</td>\n",
              "      <td>4149</td>\n",
              "      <td>4149</td>\n",
              "      <td>4149</td>\n",
              "      <td>4149</td>\n",
              "      <td>4139</td>\n",
              "    </tr>\n",
              "    <tr>\n",
              "      <th>unique</th>\n",
              "      <td>NaN</td>\n",
              "      <td>162</td>\n",
              "      <td>159</td>\n",
              "      <td>2</td>\n",
              "      <td>NaN</td>\n",
              "      <td>NaN</td>\n",
              "      <td>6</td>\n",
              "      <td>5</td>\n",
              "      <td>6</td>\n",
              "      <td>2</td>\n",
              "      <td>21</td>\n",
              "    </tr>\n",
              "    <tr>\n",
              "      <th>top</th>\n",
              "      <td>NaN</td>\n",
              "      <td>2020-07-30 00:00:00</td>\n",
              "      <td>Asymptomatic</td>\n",
              "      <td>F</td>\n",
              "      <td>NaN</td>\n",
              "      <td>NaN</td>\n",
              "      <td>Discharged</td>\n",
              "      <td>HK Resident</td>\n",
              "      <td>Epidemiologically linked with local case</td>\n",
              "      <td>Confirmed</td>\n",
              "      <td>(54, 59]</td>\n",
              "    </tr>\n",
              "    <tr>\n",
              "      <th>freq</th>\n",
              "      <td>NaN</td>\n",
              "      <td>149</td>\n",
              "      <td>881</td>\n",
              "      <td>2086</td>\n",
              "      <td>NaN</td>\n",
              "      <td>NaN</td>\n",
              "      <td>2917</td>\n",
              "      <td>2658</td>\n",
              "      <td>1762</td>\n",
              "      <td>4148</td>\n",
              "      <td>370</td>\n",
              "    </tr>\n",
              "    <tr>\n",
              "      <th>first</th>\n",
              "      <td>NaN</td>\n",
              "      <td>2020-01-23 00:00:00</td>\n",
              "      <td>NaN</td>\n",
              "      <td>NaN</td>\n",
              "      <td>NaN</td>\n",
              "      <td>NaN</td>\n",
              "      <td>NaN</td>\n",
              "      <td>NaN</td>\n",
              "      <td>NaN</td>\n",
              "      <td>NaN</td>\n",
              "      <td>NaN</td>\n",
              "    </tr>\n",
              "    <tr>\n",
              "      <th>last</th>\n",
              "      <td>NaN</td>\n",
              "      <td>2020-08-10 00:00:00</td>\n",
              "      <td>NaN</td>\n",
              "      <td>NaN</td>\n",
              "      <td>NaN</td>\n",
              "      <td>NaN</td>\n",
              "      <td>NaN</td>\n",
              "      <td>NaN</td>\n",
              "      <td>NaN</td>\n",
              "      <td>NaN</td>\n",
              "      <td>NaN</td>\n",
              "    </tr>\n",
              "    <tr>\n",
              "      <th>mean</th>\n",
              "      <td>2075.000000</td>\n",
              "      <td>NaN</td>\n",
              "      <td>NaN</td>\n",
              "      <td>NaN</td>\n",
              "      <td>43.966257</td>\n",
              "      <td>NaN</td>\n",
              "      <td>NaN</td>\n",
              "      <td>NaN</td>\n",
              "      <td>NaN</td>\n",
              "      <td>NaN</td>\n",
              "      <td>NaN</td>\n",
              "    </tr>\n",
              "    <tr>\n",
              "      <th>std</th>\n",
              "      <td>1197.857462</td>\n",
              "      <td>NaN</td>\n",
              "      <td>NaN</td>\n",
              "      <td>NaN</td>\n",
              "      <td>20.328351</td>\n",
              "      <td>NaN</td>\n",
              "      <td>NaN</td>\n",
              "      <td>NaN</td>\n",
              "      <td>NaN</td>\n",
              "      <td>NaN</td>\n",
              "      <td>NaN</td>\n",
              "    </tr>\n",
              "    <tr>\n",
              "      <th>min</th>\n",
              "      <td>1.000000</td>\n",
              "      <td>NaN</td>\n",
              "      <td>NaN</td>\n",
              "      <td>NaN</td>\n",
              "      <td>0.000000</td>\n",
              "      <td>NaN</td>\n",
              "      <td>NaN</td>\n",
              "      <td>NaN</td>\n",
              "      <td>NaN</td>\n",
              "      <td>NaN</td>\n",
              "      <td>NaN</td>\n",
              "    </tr>\n",
              "    <tr>\n",
              "      <th>25%</th>\n",
              "      <td>1038.000000</td>\n",
              "      <td>NaN</td>\n",
              "      <td>NaN</td>\n",
              "      <td>NaN</td>\n",
              "      <td>28.000000</td>\n",
              "      <td>NaN</td>\n",
              "      <td>NaN</td>\n",
              "      <td>NaN</td>\n",
              "      <td>NaN</td>\n",
              "      <td>NaN</td>\n",
              "      <td>NaN</td>\n",
              "    </tr>\n",
              "    <tr>\n",
              "      <th>50%</th>\n",
              "      <td>2075.000000</td>\n",
              "      <td>NaN</td>\n",
              "      <td>NaN</td>\n",
              "      <td>NaN</td>\n",
              "      <td>43.000000</td>\n",
              "      <td>NaN</td>\n",
              "      <td>NaN</td>\n",
              "      <td>NaN</td>\n",
              "      <td>NaN</td>\n",
              "      <td>NaN</td>\n",
              "      <td>NaN</td>\n",
              "    </tr>\n",
              "    <tr>\n",
              "      <th>75%</th>\n",
              "      <td>3112.000000</td>\n",
              "      <td>NaN</td>\n",
              "      <td>NaN</td>\n",
              "      <td>NaN</td>\n",
              "      <td>60.000000</td>\n",
              "      <td>NaN</td>\n",
              "      <td>NaN</td>\n",
              "      <td>NaN</td>\n",
              "      <td>NaN</td>\n",
              "      <td>NaN</td>\n",
              "      <td>NaN</td>\n",
              "    </tr>\n",
              "    <tr>\n",
              "      <th>max</th>\n",
              "      <td>4149.000000</td>\n",
              "      <td>NaN</td>\n",
              "      <td>NaN</td>\n",
              "      <td>NaN</td>\n",
              "      <td>100.000000</td>\n",
              "      <td>NaN</td>\n",
              "      <td>NaN</td>\n",
              "      <td>NaN</td>\n",
              "      <td>NaN</td>\n",
              "      <td>NaN</td>\n",
              "      <td>NaN</td>\n",
              "    </tr>\n",
              "  </tbody>\n",
              "</table>\n",
              "</div>"
            ],
            "text/plain": [
              "           Case no.          Report date  ... Confirmed/probable  age_bins\n",
              "count   4149.000000                 4149  ...               4149      4139\n",
              "unique          NaN                  162  ...                  2        21\n",
              "top             NaN  2020-07-30 00:00:00  ...          Confirmed  (54, 59]\n",
              "freq            NaN                  149  ...               4148       370\n",
              "first           NaN  2020-01-23 00:00:00  ...                NaN       NaN\n",
              "last            NaN  2020-08-10 00:00:00  ...                NaN       NaN\n",
              "mean    2075.000000                  NaN  ...                NaN       NaN\n",
              "std     1197.857462                  NaN  ...                NaN       NaN\n",
              "min        1.000000                  NaN  ...                NaN       NaN\n",
              "25%     1038.000000                  NaN  ...                NaN       NaN\n",
              "50%     2075.000000                  NaN  ...                NaN       NaN\n",
              "75%     3112.000000                  NaN  ...                NaN       NaN\n",
              "max     4149.000000                  NaN  ...                NaN       NaN\n",
              "\n",
              "[13 rows x 11 columns]"
            ]
          },
          "metadata": {
            "tags": []
          },
          "execution_count": 4
        }
      ]
    },
    {
      "cell_type": "markdown",
      "metadata": {
        "id": "3f_D4cuxa-RK",
        "colab_type": "text"
      },
      "source": [
        "#Statistics - Gender"
      ]
    },
    {
      "cell_type": "code",
      "metadata": {
        "id": "1VvBBnD226tm",
        "colab_type": "code",
        "colab": {
          "base_uri": "https://localhost:8080/",
          "height": 1000
        },
        "outputId": "819d0e92-1d4e-4fd7-8682-2659dfcba53f"
      },
      "source": [
        "ax1 = df.groupby(['age_bins']).size().plot(title='COVID19 - Age Group Distribution', kind='bar')\n",
        "ax1.set(ylabel='No. of infections')\n",
        "\n",
        "#df.groupby(['Hospitalised/Discharged/Deceased']).size().plot(title='COVID19 Gender Distribution', kind='bar')\n",
        "#df.groupby(['Gender']).size().plot(title='COVID19 Gender Distribution', kind='bar')\n",
        "\n",
        "\n",
        "ax2 = pd.crosstab(df['age_bins'],df['Gender']).plot(title='COVID19 - Age Group & Gender Distribution', kind='bar')\n",
        "ax2.set(ylabel='No. of infections')\n",
        "\n",
        "#pd.crosstab(df['Gender'],df['Hospitalised/Discharged/Deceased']).plot.bar()\n"
      ],
      "execution_count": 5,
      "outputs": [
        {
          "output_type": "execute_result",
          "data": {
            "text/plain": [
              "[Text(0, 0.5, 'No. of infections')]"
            ]
          },
          "metadata": {
            "tags": []
          },
          "execution_count": 5
        },
        {
          "output_type": "display_data",
          "data": {
            "image/png": "[encoded data removed]",
            "text/plain": [
              "<Figure size 864x576 with 1 Axes>"
            ]
          },
          "metadata": {
            "tags": []
          }
        },
        {
          "output_type": "display_data",
          "data": {
            "image/png": "[encoded data removed]",
            "text/plain": [
              "<Figure size 864x576 with 1 Axes>"
            ]
          },
          "metadata": {
            "tags": []
          }
        }
      ]
    },
    {
      "cell_type": "markdown",
      "metadata": {
        "id": "8_6uQ6CrZ5XR",
        "colab_type": "text"
      },
      "source": [
        "# Statistic - Mortality\n"
      ]
    },
    {
      "cell_type": "code",
      "metadata": {
        "id": "LxvWbSotC2Q3",
        "colab_type": "code",
        "colab": {
          "base_uri": "https://localhost:8080/",
          "height": 616
        },
        "outputId": "ebd651c6-6b64-49fc-b8aa-04aaad0bb771"
      },
      "source": [
        "#No. of deceased per Age group\n",
        "df_deceased = df[df['Hospitalised/Discharged/Deceased']=='Deceased']\n",
        "\n",
        "m_rate = len(df_deceased) / len(df)\n",
        "display(IPython.display.HTML('<h2> Overall mortality rate: ' + str(m_rate) + '</h2>'))\n",
        "\n",
        "#Mortality Rate\n",
        "df_ratio = pd.crosstab(df['age_bins'],df['Hospitalised/Discharged/Deceased']).apply(lambda r: r/r.sum(), axis=1)\n",
        "ax=df_ratio[['Deceased']].plot(title='Mortality rate per age group', kind='bar')\n",
        "ax.set(ylabel='Mortality Rate')"
      ],
      "execution_count": 6,
      "outputs": [
        {
          "output_type": "display_data",
          "data": {
            "text/html": [
              "<h2> Overall mortality rate: 0.013015184381778741</h2>"
            ],
            "text/plain": [
              "<IPython.core.display.HTML object>"
            ]
          },
          "metadata": {
            "tags": []
          }
        },
        {
          "output_type": "execute_result",
          "data": {
            "text/plain": [
              "[Text(0, 0.5, 'Mortality Rate')]"
            ]
          },
          "metadata": {
            "tags": []
          },
          "execution_count": 6
        },
        {
          "output_type": "display_data",
          "data": {
            "image/png": "[encoded data removed]",
            "text/plain": [
              "<Figure size 864x576 with 1 Axes>"
            ]
          },
          "metadata": {
            "tags": []
          }
        }
      ]
    },
    {
      "cell_type": "code",
      "metadata": {
        "id": "L2-ScH6EEz_Q",
        "colab_type": "code",
        "colab": {
          "base_uri": "https://localhost:8080/",
          "height": 680
        },
        "outputId": "0bab0600-e214-41aa-8852-fc33e3777fdb"
      },
      "source": [
        "display(IPython.display.HTML('<h2> Total no. of deceased: ' + str(len(df_deceased)) +  '</h2>'))\n",
        "\n",
        "\n",
        "ax=df_deceased.groupby(['Hospitalised/Discharged/Deceased','age_bins']).size().plot(title='No. of deceased per age group', kind='bar')\n",
        "ax.set(ylabel='No. of deceased case')\n"
      ],
      "execution_count": 7,
      "outputs": [
        {
          "output_type": "display_data",
          "data": {
            "text/html": [
              "<h2> Total no. of deceased: 54</h2>"
            ],
            "text/plain": [
              "<IPython.core.display.HTML object>"
            ]
          },
          "metadata": {
            "tags": []
          }
        },
        {
          "output_type": "execute_result",
          "data": {
            "text/plain": [
              "[Text(0, 0.5, 'No. of deceased case')]"
            ]
          },
          "metadata": {
            "tags": []
          },
          "execution_count": 7
        },
        {
          "output_type": "display_data",
          "data": {
            "image/png": "[encoded data removed]",
            "text/plain": [
              "<Figure size 864x576 with 1 Axes>"
            ]
          },
          "metadata": {
            "tags": []
          }
        }
      ]
    },
    {
      "cell_type": "code",
      "metadata": {
        "id": "ciTXqWh2QBDz",
        "colab_type": "code",
        "colab": {
          "base_uri": "https://localhost:8080/",
          "height": 731
        },
        "outputId": "7b7a140e-4c15-4edd-a1b5-46cad28a4b00"
      },
      "source": [
        "#Ratio Breakdown\n",
        "display(df_ratio)\n",
        "\n"
      ],
      "execution_count": 8,
      "outputs": [
        {
          "output_type": "display_data",
          "data": {
            "text/html": [
              "<div>\n",
              "<style scoped>\n",
              "    .dataframe tbody tr th:only-of-type {\n",
              "        vertical-align: middle;\n",
              "    }\n",
              "\n",
              "    .dataframe tbody tr th {\n",
              "        vertical-align: top;\n",
              "    }\n",
              "\n",
              "    .dataframe thead th {\n",
              "        text-align: right;\n",
              "    }\n",
              "</style>\n",
              "<table border=\"1\" class=\"dataframe\">\n",
              "  <thead>\n",
              "    <tr style=\"text-align: right;\">\n",
              "      <th>Hospitalised/Discharged/Deceased</th>\n",
              "      <th>Deceased</th>\n",
              "      <th>Discharged</th>\n",
              "      <th>Hospitalised</th>\n",
              "      <th>No admission</th>\n",
              "      <th>Pending admission</th>\n",
              "      <th>To be provided</th>\n",
              "    </tr>\n",
              "    <tr>\n",
              "      <th>age_bins</th>\n",
              "      <th></th>\n",
              "      <th></th>\n",
              "      <th></th>\n",
              "      <th></th>\n",
              "      <th></th>\n",
              "      <th></th>\n",
              "    </tr>\n",
              "  </thead>\n",
              "  <tbody>\n",
              "    <tr>\n",
              "      <th>(0, 4]</th>\n",
              "      <td>0.000000</td>\n",
              "      <td>0.676471</td>\n",
              "      <td>0.279412</td>\n",
              "      <td>0.000000</td>\n",
              "      <td>0.000000</td>\n",
              "      <td>0.044118</td>\n",
              "    </tr>\n",
              "    <tr>\n",
              "      <th>(4, 9]</th>\n",
              "      <td>0.000000</td>\n",
              "      <td>0.721519</td>\n",
              "      <td>0.265823</td>\n",
              "      <td>0.000000</td>\n",
              "      <td>0.000000</td>\n",
              "      <td>0.012658</td>\n",
              "    </tr>\n",
              "    <tr>\n",
              "      <th>(9, 14]</th>\n",
              "      <td>0.000000</td>\n",
              "      <td>0.744681</td>\n",
              "      <td>0.223404</td>\n",
              "      <td>0.000000</td>\n",
              "      <td>0.000000</td>\n",
              "      <td>0.031915</td>\n",
              "    </tr>\n",
              "    <tr>\n",
              "      <th>(14, 19]</th>\n",
              "      <td>0.000000</td>\n",
              "      <td>0.886364</td>\n",
              "      <td>0.086364</td>\n",
              "      <td>0.004545</td>\n",
              "      <td>0.004545</td>\n",
              "      <td>0.018182</td>\n",
              "    </tr>\n",
              "    <tr>\n",
              "      <th>(19, 24]</th>\n",
              "      <td>0.000000</td>\n",
              "      <td>0.705882</td>\n",
              "      <td>0.254902</td>\n",
              "      <td>0.005602</td>\n",
              "      <td>0.014006</td>\n",
              "      <td>0.019608</td>\n",
              "    </tr>\n",
              "    <tr>\n",
              "      <th>(24, 29]</th>\n",
              "      <td>0.000000</td>\n",
              "      <td>0.719298</td>\n",
              "      <td>0.228070</td>\n",
              "      <td>0.020468</td>\n",
              "      <td>0.014620</td>\n",
              "      <td>0.017544</td>\n",
              "    </tr>\n",
              "    <tr>\n",
              "      <th>(29, 34]</th>\n",
              "      <td>0.000000</td>\n",
              "      <td>0.771523</td>\n",
              "      <td>0.185430</td>\n",
              "      <td>0.023179</td>\n",
              "      <td>0.006623</td>\n",
              "      <td>0.013245</td>\n",
              "    </tr>\n",
              "    <tr>\n",
              "      <th>(34, 39]</th>\n",
              "      <td>0.002770</td>\n",
              "      <td>0.783934</td>\n",
              "      <td>0.191136</td>\n",
              "      <td>0.008310</td>\n",
              "      <td>0.011080</td>\n",
              "      <td>0.002770</td>\n",
              "    </tr>\n",
              "    <tr>\n",
              "      <th>(39, 44]</th>\n",
              "      <td>0.000000</td>\n",
              "      <td>0.751656</td>\n",
              "      <td>0.218543</td>\n",
              "      <td>0.000000</td>\n",
              "      <td>0.016556</td>\n",
              "      <td>0.013245</td>\n",
              "    </tr>\n",
              "    <tr>\n",
              "      <th>(44, 49]</th>\n",
              "      <td>0.000000</td>\n",
              "      <td>0.786885</td>\n",
              "      <td>0.180328</td>\n",
              "      <td>0.006557</td>\n",
              "      <td>0.009836</td>\n",
              "      <td>0.016393</td>\n",
              "    </tr>\n",
              "    <tr>\n",
              "      <th>(49, 54]</th>\n",
              "      <td>0.000000</td>\n",
              "      <td>0.718213</td>\n",
              "      <td>0.257732</td>\n",
              "      <td>0.000000</td>\n",
              "      <td>0.000000</td>\n",
              "      <td>0.024055</td>\n",
              "    </tr>\n",
              "    <tr>\n",
              "      <th>(54, 59]</th>\n",
              "      <td>0.002703</td>\n",
              "      <td>0.724324</td>\n",
              "      <td>0.251351</td>\n",
              "      <td>0.002703</td>\n",
              "      <td>0.000000</td>\n",
              "      <td>0.018919</td>\n",
              "    </tr>\n",
              "    <tr>\n",
              "      <th>(59, 64]</th>\n",
              "      <td>0.005666</td>\n",
              "      <td>0.654391</td>\n",
              "      <td>0.303116</td>\n",
              "      <td>0.011331</td>\n",
              "      <td>0.008499</td>\n",
              "      <td>0.016997</td>\n",
              "    </tr>\n",
              "    <tr>\n",
              "      <th>(64, 69]</th>\n",
              "      <td>0.000000</td>\n",
              "      <td>0.623574</td>\n",
              "      <td>0.365019</td>\n",
              "      <td>0.000000</td>\n",
              "      <td>0.003802</td>\n",
              "      <td>0.007605</td>\n",
              "    </tr>\n",
              "    <tr>\n",
              "      <th>(69, 74]</th>\n",
              "      <td>0.023529</td>\n",
              "      <td>0.582353</td>\n",
              "      <td>0.376471</td>\n",
              "      <td>0.000000</td>\n",
              "      <td>0.000000</td>\n",
              "      <td>0.017647</td>\n",
              "    </tr>\n",
              "    <tr>\n",
              "      <th>(74, 79]</th>\n",
              "      <td>0.103448</td>\n",
              "      <td>0.471264</td>\n",
              "      <td>0.367816</td>\n",
              "      <td>0.000000</td>\n",
              "      <td>0.000000</td>\n",
              "      <td>0.057471</td>\n",
              "    </tr>\n",
              "    <tr>\n",
              "      <th>(79, 84]</th>\n",
              "      <td>0.147059</td>\n",
              "      <td>0.308824</td>\n",
              "      <td>0.544118</td>\n",
              "      <td>0.000000</td>\n",
              "      <td>0.000000</td>\n",
              "      <td>0.000000</td>\n",
              "    </tr>\n",
              "    <tr>\n",
              "      <th>(84, 89]</th>\n",
              "      <td>0.293103</td>\n",
              "      <td>0.275862</td>\n",
              "      <td>0.431034</td>\n",
              "      <td>0.000000</td>\n",
              "      <td>0.000000</td>\n",
              "      <td>0.000000</td>\n",
              "    </tr>\n",
              "    <tr>\n",
              "      <th>(89, 94]</th>\n",
              "      <td>0.195122</td>\n",
              "      <td>0.243902</td>\n",
              "      <td>0.536585</td>\n",
              "      <td>0.000000</td>\n",
              "      <td>0.000000</td>\n",
              "      <td>0.024390</td>\n",
              "    </tr>\n",
              "    <tr>\n",
              "      <th>(94, 99]</th>\n",
              "      <td>0.285714</td>\n",
              "      <td>0.285714</td>\n",
              "      <td>0.428571</td>\n",
              "      <td>0.000000</td>\n",
              "      <td>0.000000</td>\n",
              "      <td>0.000000</td>\n",
              "    </tr>\n",
              "    <tr>\n",
              "      <th>(99, 104]</th>\n",
              "      <td>0.000000</td>\n",
              "      <td>0.000000</td>\n",
              "      <td>1.000000</td>\n",
              "      <td>0.000000</td>\n",
              "      <td>0.000000</td>\n",
              "      <td>0.000000</td>\n",
              "    </tr>\n",
              "  </tbody>\n",
              "</table>\n",
              "</div>"
            ],
            "text/plain": [
              "Hospitalised/Discharged/Deceased  Deceased  ...  To be provided\n",
              "age_bins                                    ...                \n",
              "(0, 4]                            0.000000  ...        0.044118\n",
              "(4, 9]                            0.000000  ...        0.012658\n",
              "(9, 14]                           0.000000  ...        0.031915\n",
              "(14, 19]                          0.000000  ...        0.018182\n",
              "(19, 24]                          0.000000  ...        0.019608\n",
              "(24, 29]                          0.000000  ...        0.017544\n",
              "(29, 34]                          0.000000  ...        0.013245\n",
              "(34, 39]                          0.002770  ...        0.002770\n",
              "(39, 44]                          0.000000  ...        0.013245\n",
              "(44, 49]                          0.000000  ...        0.016393\n",
              "(49, 54]                          0.000000  ...        0.024055\n",
              "(54, 59]                          0.002703  ...        0.018919\n",
              "(59, 64]                          0.005666  ...        0.016997\n",
              "(64, 69]                          0.000000  ...        0.007605\n",
              "(69, 74]                          0.023529  ...        0.017647\n",
              "(74, 79]                          0.103448  ...        0.057471\n",
              "(79, 84]                          0.147059  ...        0.000000\n",
              "(84, 89]                          0.293103  ...        0.000000\n",
              "(89, 94]                          0.195122  ...        0.024390\n",
              "(94, 99]                          0.285714  ...        0.000000\n",
              "(99, 104]                         0.000000  ...        0.000000\n",
              "\n",
              "[21 rows x 6 columns]"
            ]
          },
          "metadata": {
            "tags": []
          }
        }
      ]
    },
    {
      "cell_type": "code",
      "metadata": {
        "id": "7q9FtdZ3SnBt",
        "colab_type": "code",
        "colab": {
          "base_uri": "https://localhost:8080/",
          "height": 782
        },
        "outputId": "7644d5b1-87a5-4790-f013-a7c41f297174"
      },
      "source": [
        "df_7days = df[df['Report date'] > datetime.datetime.now() - pd.to_timedelta(\"8day\")]\n",
        "df_7days_grouped = df_7days.groupby(['Report date']).size()\n",
        "\n",
        "display(df_7days_grouped)\n",
        "\n",
        "ax = df_7days_grouped.plot(title='COVID19 Trend', kind='bar')\n",
        "ax.set(ylabel='No. of infections')\n",
        "\n"
      ],
      "execution_count": 9,
      "outputs": [
        {
          "output_type": "display_data",
          "data": {
            "text/plain": [
              "Report date\n",
              "2020-08-04    80\n",
              "2020-08-05    85\n",
              "2020-08-06    95\n",
              "2020-08-07    89\n",
              "2020-08-08    69\n",
              "2020-08-09    72\n",
              "2020-08-10    69\n",
              "dtype: int64"
            ]
          },
          "metadata": {
            "tags": []
          }
        },
        {
          "output_type": "execute_result",
          "data": {
            "text/plain": [
              "[Text(0, 0.5, 'No. of infections')]"
            ]
          },
          "metadata": {
            "tags": []
          },
          "execution_count": 9
        },
        {
          "output_type": "display_data",
          "data": {
            "image/png": "[encoded data removed]",
            "text/plain": [
              "<Figure size 864x576 with 1 Axes>"
            ]
          },
          "metadata": {
            "tags": []
          }
        }
      ]
    }
  ]
}