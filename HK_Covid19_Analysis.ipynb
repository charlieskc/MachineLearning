{
  "nbformat": 4,
  "nbformat_minor": 0,
  "metadata": {
    "colab": {
      "name": "HK Covid19 Analysis.ipynb",
      "provenance": [],
      "collapsed_sections": [],
      "toc_visible": true,
      "mount_file_id": "1_oVM16RqLVdUgUmafGL3frwb55yYuByo",
      "authorship_tag": "ABX9TyNEDi/OWCIyjos4QIBaLhRJ",
      "include_colab_link": true
    },
    "kernelspec": {
      "name": "python3",
      "display_name": "Python 3"
    }
  },
  "cells": [
    {
      "cell_type": "markdown",
      "metadata": {
        "id": "view-in-github",
        "colab_type": "text"
      },
      "source": [
        "<a href=\"https://colab.research.google.com/github/charlieskc/MachineLearning/blob/master/HK_Covid19_Analysis.ipynb\" target=\"_parent\"><img src=\"https://colab.research.google.com/assets/colab-badge.svg\" alt=\"Open In Colab\"/></a>"
      ]
    },
    {
      "cell_type": "markdown",
      "metadata": {
        "id": "751j_ENVEZjE",
        "colab_type": "text"
      },
      "source": [
        "#Hong Kong COVID-19 Analysis (based on age group)\n",
        "\n",
        "Data downloaded from: http://www.chp.gov.hk/files/misc/enhanced_sur_covid_19_eng.csv\n",
        "\n",
        "There are many statistics about COVID-19 in Hong Kong however there are not much statistic based on age group. This notebook aims to provide COVID-10 age group statistics.\n",
        "\n"
      ]
    },
    {
      "cell_type": "code",
      "metadata": {
        "id": "A8iMQL-sC3-l",
        "colab_type": "code",
        "colab": {
          "base_uri": "https://localhost:8080/",
          "height": 374
        },
        "outputId": "cdeb60d8-0883-49a7-fe78-b8db32ffcc66"
      },
      "source": [
        "#dataset refresh everyday from the website\n",
        "!rm enhanced_sur_covid_19_eng.csv*\n",
        "!wget http://www.chp.gov.hk/files/misc/enhanced_sur_covid_19_eng.csv\n",
        "#!wget http://www.chp.gov.hk/files/misc/latest_situation_of_reported_cases_covid_19_eng.csv\n",
        "!ls -lh\n",
        "!wc -l enhanced_sur_covid_19_eng.csv"
      ],
      "execution_count": 169,
      "outputs": [
        {
          "output_type": "stream",
          "text": [
            "--2020-08-10 07:41:46--  http://www.chp.gov.hk/files/misc/enhanced_sur_covid_19_eng.csv\n",
            "Resolving www.chp.gov.hk (www.chp.gov.hk)... 104.19.253.59, 104.19.254.59, 2606:4700::6813:fe3b, ...\n",
            "Connecting to www.chp.gov.hk (www.chp.gov.hk)|104.19.253.59|:80... connected.\n",
            "HTTP request sent, awaiting response... 301 Moved Permanently\n",
            "Location: https://www.chp.gov.hk/files/misc/enhanced_sur_covid_19_eng.csv [following]\n",
            "--2020-08-10 07:41:47--  https://www.chp.gov.hk/files/misc/enhanced_sur_covid_19_eng.csv\n",
            "Connecting to www.chp.gov.hk (www.chp.gov.hk)|104.19.253.59|:443... connected.\n",
            "HTTP request sent, awaiting response... 200 OK\n",
            "Length: unspecified [text/csv]\n",
            "Saving to: ‘enhanced_sur_covid_19_eng.csv’\n",
            "\n",
            "\r          enhanced_     [<=>                 ]       0  --.-KB/s               \renhanced_sur_covid_     [ <=>                ] 370.99K  --.-KB/s    in 0.04s   \n",
            "\n",
            "2020-08-10 07:41:47 (8.25 MB/s) - ‘enhanced_sur_covid_19_eng.csv’ saved [379898]\n",
            "\n",
            "total 392K\n",
            "drwx------ 4 root root 4.0K Aug 10 00:57 drive\n",
            "-rw-r--r-- 1 root root 371K Aug  9 15:05 enhanced_sur_covid_19_eng.csv\n",
            "-rw-r--r-- 1 root root 8.4K Aug  9 15:10 latest_situation_of_reported_cases_covid_19_eng.csv\n",
            "drwxr-xr-x 1 root root 4.0K Jul 30 16:30 sample_data\n",
            "4081 enhanced_sur_covid_19_eng.csv\n"
          ],
          "name": "stdout"
        }
      ]
    },
    {
      "cell_type": "markdown",
      "metadata": {
        "id": "j0B4xzukRxDM",
        "colab_type": "text"
      },
      "source": [
        "# Import Packages"
      ]
    },
    {
      "cell_type": "code",
      "metadata": {
        "id": "2oBeTR5Ic21U",
        "colab_type": "code",
        "colab": {}
      },
      "source": [
        "'''\n",
        "Normally you do not need to install pandas, uncomment if pandas is missing\n",
        "'''\n",
        "#install pandas \n",
        "#!pip install pandas\n",
        "\n",
        "#load packages\n",
        "import sys \n",
        "import pandas as pd \n",
        "import matplotlib \n",
        "import numpy as np \n",
        "import scipy as sp \n",
        "import IPython\n",
        "import datetime\n",
        "from IPython.display import display\n",
        "\n",
        "#Visualization\n",
        "import matplotlib as mpl\n",
        "import matplotlib.pyplot as plt\n",
        "import matplotlib.pylab as pylab\n",
        "import seaborn as sns\n",
        "from pandas.plotting import scatter_matrix\n",
        "\n",
        "#Configure Visualization Defaults\n",
        "#%matplotlib inline = show plots in Jupyter Notebook browser\n",
        "%matplotlib inline\n",
        "mpl.style.use('ggplot')\n",
        "sns.set_style('white')\n",
        "pylab.rcParams['figure.figsize'] = 12,8\n"
      ],
      "execution_count": 170,
      "outputs": []
    },
    {
      "cell_type": "markdown",
      "metadata": {
        "id": "2OtRpnBHSZEj",
        "colab_type": "text"
      },
      "source": [
        "# Load Data Files\n",
        "\n",
        "##Age group engineering:\n",
        "1. Age is categorized into age_bins. Grouping based on WHO https://www.who.int/healthinfo/paper31.pdf?ua=1\n"
      ]
    },
    {
      "cell_type": "code",
      "metadata": {
        "id": "tV16IYqsKI-K",
        "colab_type": "code",
        "colab": {
          "base_uri": "https://localhost:8080/",
          "height": 357
        },
        "outputId": "2bd9d32a-f137-49c0-c925-ae687d89e7ed"
      },
      "source": [
        "df = pd.read_csv('/content/enhanced_sur_covid_19_eng.csv')\n",
        "df['Report date'] =  pd.to_datetime(df['Report date'], format='%d/%m/%Y')\n",
        "\n",
        "#df1 = pd.read_csv('/content/latest_situation_of_reported_cases_covid_19_eng.csv')\n",
        "\n",
        "#categorize age into age group. age group based on WHO https://www.who.int/healthinfo/paper31.pdf?ua=1\n",
        "ageBin= [0,4,9,14,19,24,29,34,39,44,49,54,59,64,69,74,79,84,89,94,99,104]\n",
        "df['age_bins'] = pd.cut(x=df['Age'], bins=ageBin)\n",
        "\n",
        "#preview data\n",
        "df.sample(5) \n",
        "\n",
        "#print(df.dtypes)"
      ],
      "execution_count": 171,
      "outputs": [
        {
          "output_type": "execute_result",
          "data": {
            "text/html": [
              "<div>\n",
              "<style scoped>\n",
              "    .dataframe tbody tr th:only-of-type {\n",
              "        vertical-align: middle;\n",
              "    }\n",
              "\n",
              "    .dataframe tbody tr th {\n",
              "        vertical-align: top;\n",
              "    }\n",
              "\n",
              "    .dataframe thead th {\n",
              "        text-align: right;\n",
              "    }\n",
              "</style>\n",
              "<table border=\"1\" class=\"dataframe\">\n",
              "  <thead>\n",
              "    <tr style=\"text-align: right;\">\n",
              "      <th></th>\n",
              "      <th>Case no.</th>\n",
              "      <th>Report date</th>\n",
              "      <th>Date of onset</th>\n",
              "      <th>Gender</th>\n",
              "      <th>Age</th>\n",
              "      <th>Name of hospital admitted</th>\n",
              "      <th>Hospitalised/Discharged/Deceased</th>\n",
              "      <th>HK/Non-HK resident</th>\n",
              "      <th>Case classification*</th>\n",
              "      <th>Confirmed/probable</th>\n",
              "      <th>age_bins</th>\n",
              "    </tr>\n",
              "  </thead>\n",
              "  <tbody>\n",
              "    <tr>\n",
              "      <th>198</th>\n",
              "      <td>199</td>\n",
              "      <td>2020-03-19</td>\n",
              "      <td>16/03/2020</td>\n",
              "      <td>M</td>\n",
              "      <td>29</td>\n",
              "      <td>NaN</td>\n",
              "      <td>Discharged</td>\n",
              "      <td>HK resident</td>\n",
              "      <td>Possibly local case</td>\n",
              "      <td>Confirmed</td>\n",
              "      <td>(24, 29]</td>\n",
              "    </tr>\n",
              "    <tr>\n",
              "      <th>2748</th>\n",
              "      <td>2749</td>\n",
              "      <td>2020-07-27</td>\n",
              "      <td>25/07/2020</td>\n",
              "      <td>F</td>\n",
              "      <td>84</td>\n",
              "      <td>NaN</td>\n",
              "      <td>Hospitalised</td>\n",
              "      <td>HK Resident</td>\n",
              "      <td>Epidemiologically linked with local case</td>\n",
              "      <td>Confirmed</td>\n",
              "      <td>(79, 84]</td>\n",
              "    </tr>\n",
              "    <tr>\n",
              "      <th>1683</th>\n",
              "      <td>1684</td>\n",
              "      <td>2020-07-17</td>\n",
              "      <td>Asymptomatic</td>\n",
              "      <td>M</td>\n",
              "      <td>27</td>\n",
              "      <td>NaN</td>\n",
              "      <td>Discharged</td>\n",
              "      <td>HK Resident</td>\n",
              "      <td>Imported case</td>\n",
              "      <td>Confirmed</td>\n",
              "      <td>(24, 29]</td>\n",
              "    </tr>\n",
              "    <tr>\n",
              "      <th>3733</th>\n",
              "      <td>3734</td>\n",
              "      <td>2020-08-05</td>\n",
              "      <td>03/08/2020</td>\n",
              "      <td>M</td>\n",
              "      <td>95</td>\n",
              "      <td>NaN</td>\n",
              "      <td>Hospitalised</td>\n",
              "      <td>HK Resident</td>\n",
              "      <td>Epidemiologically linked with local case</td>\n",
              "      <td>Confirmed</td>\n",
              "      <td>(94, 99]</td>\n",
              "    </tr>\n",
              "    <tr>\n",
              "      <th>1110</th>\n",
              "      <td>1111</td>\n",
              "      <td>2020-06-15</td>\n",
              "      <td>31/05/2020</td>\n",
              "      <td>F</td>\n",
              "      <td>32</td>\n",
              "      <td>NaN</td>\n",
              "      <td>Discharged</td>\n",
              "      <td>HK resident</td>\n",
              "      <td>Imported case</td>\n",
              "      <td>Confirmed</td>\n",
              "      <td>(29, 34]</td>\n",
              "    </tr>\n",
              "  </tbody>\n",
              "</table>\n",
              "</div>"
            ],
            "text/plain": [
              "      Case no. Report date  ... Confirmed/probable  age_bins\n",
              "198        199  2020-03-19  ...          Confirmed  (24, 29]\n",
              "2748      2749  2020-07-27  ...          Confirmed  (79, 84]\n",
              "1683      1684  2020-07-17  ...          Confirmed  (24, 29]\n",
              "3733      3734  2020-08-05  ...          Confirmed  (94, 99]\n",
              "1110      1111  2020-06-15  ...          Confirmed  (29, 34]\n",
              "\n",
              "[5 rows x 11 columns]"
            ]
          },
          "metadata": {
            "tags": []
          },
          "execution_count": 171
        }
      ]
    },
    {
      "cell_type": "markdown",
      "metadata": {
        "id": "qfo0zWMPav1H",
        "colab_type": "text"
      },
      "source": [
        "# Data Description"
      ]
    },
    {
      "cell_type": "code",
      "metadata": {
        "id": "Cw-mPNGP28GU",
        "colab_type": "code",
        "colab": {
          "base_uri": "https://localhost:8080/",
          "height": 608
        },
        "outputId": "94d24f03-8c0a-4722-9e1a-90729bb34686"
      },
      "source": [
        "df.describe(include = 'all')\n"
      ],
      "execution_count": 172,
      "outputs": [
        {
          "output_type": "execute_result",
          "data": {
            "text/html": [
              "<div>\n",
              "<style scoped>\n",
              "    .dataframe tbody tr th:only-of-type {\n",
              "        vertical-align: middle;\n",
              "    }\n",
              "\n",
              "    .dataframe tbody tr th {\n",
              "        vertical-align: top;\n",
              "    }\n",
              "\n",
              "    .dataframe thead th {\n",
              "        text-align: right;\n",
              "    }\n",
              "</style>\n",
              "<table border=\"1\" class=\"dataframe\">\n",
              "  <thead>\n",
              "    <tr style=\"text-align: right;\">\n",
              "      <th></th>\n",
              "      <th>Case no.</th>\n",
              "      <th>Report date</th>\n",
              "      <th>Date of onset</th>\n",
              "      <th>Gender</th>\n",
              "      <th>Age</th>\n",
              "      <th>Name of hospital admitted</th>\n",
              "      <th>Hospitalised/Discharged/Deceased</th>\n",
              "      <th>HK/Non-HK resident</th>\n",
              "      <th>Case classification*</th>\n",
              "      <th>Confirmed/probable</th>\n",
              "      <th>age_bins</th>\n",
              "    </tr>\n",
              "  </thead>\n",
              "  <tbody>\n",
              "    <tr>\n",
              "      <th>count</th>\n",
              "      <td>4080.000000</td>\n",
              "      <td>4080</td>\n",
              "      <td>4080</td>\n",
              "      <td>4080</td>\n",
              "      <td>4080.000000</td>\n",
              "      <td>0.0</td>\n",
              "      <td>4080</td>\n",
              "      <td>4080</td>\n",
              "      <td>4080</td>\n",
              "      <td>4080</td>\n",
              "      <td>4070</td>\n",
              "    </tr>\n",
              "    <tr>\n",
              "      <th>unique</th>\n",
              "      <td>NaN</td>\n",
              "      <td>161</td>\n",
              "      <td>158</td>\n",
              "      <td>2</td>\n",
              "      <td>NaN</td>\n",
              "      <td>NaN</td>\n",
              "      <td>6</td>\n",
              "      <td>5</td>\n",
              "      <td>6</td>\n",
              "      <td>2</td>\n",
              "      <td>21</td>\n",
              "    </tr>\n",
              "    <tr>\n",
              "      <th>top</th>\n",
              "      <td>NaN</td>\n",
              "      <td>2020-07-30 00:00:00</td>\n",
              "      <td>Asymptomatic</td>\n",
              "      <td>F</td>\n",
              "      <td>NaN</td>\n",
              "      <td>NaN</td>\n",
              "      <td>Discharged</td>\n",
              "      <td>HK Resident</td>\n",
              "      <td>Epidemiologically linked with local case</td>\n",
              "      <td>Confirmed</td>\n",
              "      <td>(54, 59]</td>\n",
              "    </tr>\n",
              "    <tr>\n",
              "      <th>freq</th>\n",
              "      <td>NaN</td>\n",
              "      <td>149</td>\n",
              "      <td>859</td>\n",
              "      <td>2052</td>\n",
              "      <td>NaN</td>\n",
              "      <td>NaN</td>\n",
              "      <td>2847</td>\n",
              "      <td>2589</td>\n",
              "      <td>1714</td>\n",
              "      <td>4079</td>\n",
              "      <td>363</td>\n",
              "    </tr>\n",
              "    <tr>\n",
              "      <th>first</th>\n",
              "      <td>NaN</td>\n",
              "      <td>2020-01-23 00:00:00</td>\n",
              "      <td>NaN</td>\n",
              "      <td>NaN</td>\n",
              "      <td>NaN</td>\n",
              "      <td>NaN</td>\n",
              "      <td>NaN</td>\n",
              "      <td>NaN</td>\n",
              "      <td>NaN</td>\n",
              "      <td>NaN</td>\n",
              "      <td>NaN</td>\n",
              "    </tr>\n",
              "    <tr>\n",
              "      <th>last</th>\n",
              "      <td>NaN</td>\n",
              "      <td>2020-08-09 00:00:00</td>\n",
              "      <td>NaN</td>\n",
              "      <td>NaN</td>\n",
              "      <td>NaN</td>\n",
              "      <td>NaN</td>\n",
              "      <td>NaN</td>\n",
              "      <td>NaN</td>\n",
              "      <td>NaN</td>\n",
              "      <td>NaN</td>\n",
              "      <td>NaN</td>\n",
              "    </tr>\n",
              "    <tr>\n",
              "      <th>mean</th>\n",
              "      <td>2040.500000</td>\n",
              "      <td>NaN</td>\n",
              "      <td>NaN</td>\n",
              "      <td>NaN</td>\n",
              "      <td>43.984559</td>\n",
              "      <td>NaN</td>\n",
              "      <td>NaN</td>\n",
              "      <td>NaN</td>\n",
              "      <td>NaN</td>\n",
              "      <td>NaN</td>\n",
              "      <td>NaN</td>\n",
              "    </tr>\n",
              "    <tr>\n",
              "      <th>std</th>\n",
              "      <td>1177.938878</td>\n",
              "      <td>NaN</td>\n",
              "      <td>NaN</td>\n",
              "      <td>NaN</td>\n",
              "      <td>20.298387</td>\n",
              "      <td>NaN</td>\n",
              "      <td>NaN</td>\n",
              "      <td>NaN</td>\n",
              "      <td>NaN</td>\n",
              "      <td>NaN</td>\n",
              "      <td>NaN</td>\n",
              "    </tr>\n",
              "    <tr>\n",
              "      <th>min</th>\n",
              "      <td>1.000000</td>\n",
              "      <td>NaN</td>\n",
              "      <td>NaN</td>\n",
              "      <td>NaN</td>\n",
              "      <td>0.000000</td>\n",
              "      <td>NaN</td>\n",
              "      <td>NaN</td>\n",
              "      <td>NaN</td>\n",
              "      <td>NaN</td>\n",
              "      <td>NaN</td>\n",
              "      <td>NaN</td>\n",
              "    </tr>\n",
              "    <tr>\n",
              "      <th>25%</th>\n",
              "      <td>1020.750000</td>\n",
              "      <td>NaN</td>\n",
              "      <td>NaN</td>\n",
              "      <td>NaN</td>\n",
              "      <td>28.000000</td>\n",
              "      <td>NaN</td>\n",
              "      <td>NaN</td>\n",
              "      <td>NaN</td>\n",
              "      <td>NaN</td>\n",
              "      <td>NaN</td>\n",
              "      <td>NaN</td>\n",
              "    </tr>\n",
              "    <tr>\n",
              "      <th>50%</th>\n",
              "      <td>2040.500000</td>\n",
              "      <td>NaN</td>\n",
              "      <td>NaN</td>\n",
              "      <td>NaN</td>\n",
              "      <td>43.000000</td>\n",
              "      <td>NaN</td>\n",
              "      <td>NaN</td>\n",
              "      <td>NaN</td>\n",
              "      <td>NaN</td>\n",
              "      <td>NaN</td>\n",
              "      <td>NaN</td>\n",
              "    </tr>\n",
              "    <tr>\n",
              "      <th>75%</th>\n",
              "      <td>3060.250000</td>\n",
              "      <td>NaN</td>\n",
              "      <td>NaN</td>\n",
              "      <td>NaN</td>\n",
              "      <td>60.000000</td>\n",
              "      <td>NaN</td>\n",
              "      <td>NaN</td>\n",
              "      <td>NaN</td>\n",
              "      <td>NaN</td>\n",
              "      <td>NaN</td>\n",
              "      <td>NaN</td>\n",
              "    </tr>\n",
              "    <tr>\n",
              "      <th>max</th>\n",
              "      <td>4080.000000</td>\n",
              "      <td>NaN</td>\n",
              "      <td>NaN</td>\n",
              "      <td>NaN</td>\n",
              "      <td>100.000000</td>\n",
              "      <td>NaN</td>\n",
              "      <td>NaN</td>\n",
              "      <td>NaN</td>\n",
              "      <td>NaN</td>\n",
              "      <td>NaN</td>\n",
              "      <td>NaN</td>\n",
              "    </tr>\n",
              "  </tbody>\n",
              "</table>\n",
              "</div>"
            ],
            "text/plain": [
              "           Case no.          Report date  ... Confirmed/probable  age_bins\n",
              "count   4080.000000                 4080  ...               4080      4070\n",
              "unique          NaN                  161  ...                  2        21\n",
              "top             NaN  2020-07-30 00:00:00  ...          Confirmed  (54, 59]\n",
              "freq            NaN                  149  ...               4079       363\n",
              "first           NaN  2020-01-23 00:00:00  ...                NaN       NaN\n",
              "last            NaN  2020-08-09 00:00:00  ...                NaN       NaN\n",
              "mean    2040.500000                  NaN  ...                NaN       NaN\n",
              "std     1177.938878                  NaN  ...                NaN       NaN\n",
              "min        1.000000                  NaN  ...                NaN       NaN\n",
              "25%     1020.750000                  NaN  ...                NaN       NaN\n",
              "50%     2040.500000                  NaN  ...                NaN       NaN\n",
              "75%     3060.250000                  NaN  ...                NaN       NaN\n",
              "max     4080.000000                  NaN  ...                NaN       NaN\n",
              "\n",
              "[13 rows x 11 columns]"
            ]
          },
          "metadata": {
            "tags": []
          },
          "execution_count": 172
        }
      ]
    },
    {
      "cell_type": "markdown",
      "metadata": {
        "id": "3f_D4cuxa-RK",
        "colab_type": "text"
      },
      "source": [
        "#Statistics"
      ]
    },
    {
      "cell_type": "code",
      "metadata": {
        "id": "1VvBBnD226tm",
        "colab_type": "code",
        "colab": {
          "base_uri": "https://localhost:8080/",
          "height": 1000
        },
        "outputId": "755b79d3-6912-4529-a397-cd143fb30109"
      },
      "source": [
        "ax1 = df.groupby(['age_bins']).size().plot(title='COVID19 - Age Group Distribution', kind='bar')\n",
        "ax1.set(ylabel='No. of infections')\n",
        "\n",
        "#df.groupby(['Hospitalised/Discharged/Deceased']).size().plot(title='COVID19 Gender Distribution', kind='bar')\n",
        "#df.groupby(['Gender']).size().plot(title='COVID19 Gender Distribution', kind='bar')\n",
        "\n",
        "\n",
        "ax2 = pd.crosstab(df['age_bins'],df['Gender']).plot(title='COVID19 - Age Group & Gender Distribution', kind='bar')\n",
        "ax2.set(ylabel='No. of infections')\n",
        "\n",
        "#pd.crosstab(df['Gender'],df['Hospitalised/Discharged/Deceased']).plot.bar()\n"
      ],
      "execution_count": 173,
      "outputs": [
        {
          "output_type": "execute_result",
          "data": {
            "text/plain": [
              "[Text(0, 0.5, 'No. of infections')]"
            ]
          },
          "metadata": {
            "tags": []
          },
          "execution_count": 173
        },
        {
          "output_type": "display_data",
          "data": {
            "image/png": "[encoded data removed]",
            "text/plain": [
              "<Figure size 864x576 with 1 Axes>"
            ]
          },
          "metadata": {
            "tags": []
          }
        },
        {
          "output_type": "display_data",
          "data": {
            "image/png": "[encoded data removed]",
            "text/plain": [
              "<Figure size 864x576 with 1 Axes>"
            ]
          },
          "metadata": {
            "tags": []
          }
        }
      ]
    },
    {
      "cell_type": "code",
      "metadata": {
        "id": "LxvWbSotC2Q3",
        "colab_type": "code",
        "colab": {
          "base_uri": "https://localhost:8080/",
          "height": 633
        },
        "outputId": "0d0b7486-89e4-4b5c-e1e3-922473293db6"
      },
      "source": [
        "#No. of deceased per Age group\n",
        "df_deceased = df[df['Hospitalised/Discharged/Deceased']=='Deceased']\n",
        "ax=df_deceased.groupby(['Hospitalised/Discharged/Deceased','age_bins']).size().plot(title='No. of deceased per age group', kind='bar')\n",
        "ax.set(ylabel='No. of deceased case')\n"
      ],
      "execution_count": 174,
      "outputs": [
        {
          "output_type": "execute_result",
          "data": {
            "text/plain": [
              "[Text(0, 0.5, 'No. of deceased case')]"
            ]
          },
          "metadata": {
            "tags": []
          },
          "execution_count": 174
        },
        {
          "output_type": "display_data",
          "data": {
            "image/png": "[encoded data removed]",
            "text/plain": [
              "<Figure size 864x576 with 1 Axes>"
            ]
          },
          "metadata": {
            "tags": []
          }
        }
      ]
    },
    {
      "cell_type": "code",
      "metadata": {
        "id": "L2-ScH6EEz_Q",
        "colab_type": "code",
        "colab": {
          "base_uri": "https://localhost:8080/",
          "height": 569
        },
        "outputId": "96b96837-6dae-4d03-bb10-97f84e99942b"
      },
      "source": [
        "#Mortality Rate\n",
        "df_ratio = pd.crosstab(df['age_bins'],df['Hospitalised/Discharged/Deceased']).apply(lambda r: r/r.sum(), axis=1)\n",
        "ax=df_ratio[['Deceased']].plot(title='Mortality rate per age group', kind='bar')\n",
        "ax.set(ylabel='Mortality Rate')\n"
      ],
      "execution_count": 175,
      "outputs": [
        {
          "output_type": "execute_result",
          "data": {
            "text/plain": [
              "[Text(0, 0.5, 'Mortality Rate')]"
            ]
          },
          "metadata": {
            "tags": []
          },
          "execution_count": 175
        },
        {
          "output_type": "display_data",
          "data": {
            "image/png": "[encoded data removed]",
            "text/plain": [
              "<Figure size 864x576 with 1 Axes>"
            ]
          },
          "metadata": {
            "tags": []
          }
        }
      ]
    },
    {
      "cell_type": "code",
      "metadata": {
        "id": "ciTXqWh2QBDz",
        "colab_type": "code",
        "colab": {
          "base_uri": "https://localhost:8080/",
          "height": 731
        },
        "outputId": "9eae738f-76e2-41e5-ab64-3b356ce4b392"
      },
      "source": [
        "#Ratio Breakdown\n",
        "display(df_ratio)\n",
        "\n"
      ],
      "execution_count": 176,
      "outputs": [
        {
          "output_type": "display_data",
          "data": {
            "text/html": [
              "<div>\n",
              "<style scoped>\n",
              "    .dataframe tbody tr th:only-of-type {\n",
              "        vertical-align: middle;\n",
              "    }\n",
              "\n",
              "    .dataframe tbody tr th {\n",
              "        vertical-align: top;\n",
              "    }\n",
              "\n",
              "    .dataframe thead th {\n",
              "        text-align: right;\n",
              "    }\n",
              "</style>\n",
              "<table border=\"1\" class=\"dataframe\">\n",
              "  <thead>\n",
              "    <tr style=\"text-align: right;\">\n",
              "      <th>Hospitalised/Discharged/Deceased</th>\n",
              "      <th>Deceased</th>\n",
              "      <th>Discharged</th>\n",
              "      <th>Hospitalised</th>\n",
              "      <th>No admission</th>\n",
              "      <th>Pending admission</th>\n",
              "      <th>To be provided</th>\n",
              "    </tr>\n",
              "    <tr>\n",
              "      <th>age_bins</th>\n",
              "      <th></th>\n",
              "      <th></th>\n",
              "      <th></th>\n",
              "      <th></th>\n",
              "      <th></th>\n",
              "      <th></th>\n",
              "    </tr>\n",
              "  </thead>\n",
              "  <tbody>\n",
              "    <tr>\n",
              "      <th>(0, 4]</th>\n",
              "      <td>0.000000</td>\n",
              "      <td>0.676923</td>\n",
              "      <td>0.307692</td>\n",
              "      <td>0.000000</td>\n",
              "      <td>0.015385</td>\n",
              "      <td>0.000000</td>\n",
              "    </tr>\n",
              "    <tr>\n",
              "      <th>(4, 9]</th>\n",
              "      <td>0.000000</td>\n",
              "      <td>0.730769</td>\n",
              "      <td>0.269231</td>\n",
              "      <td>0.000000</td>\n",
              "      <td>0.000000</td>\n",
              "      <td>0.000000</td>\n",
              "    </tr>\n",
              "    <tr>\n",
              "      <th>(9, 14]</th>\n",
              "      <td>0.000000</td>\n",
              "      <td>0.758242</td>\n",
              "      <td>0.241758</td>\n",
              "      <td>0.000000</td>\n",
              "      <td>0.000000</td>\n",
              "      <td>0.000000</td>\n",
              "    </tr>\n",
              "    <tr>\n",
              "      <th>(14, 19]</th>\n",
              "      <td>0.000000</td>\n",
              "      <td>0.893519</td>\n",
              "      <td>0.087963</td>\n",
              "      <td>0.004630</td>\n",
              "      <td>0.009259</td>\n",
              "      <td>0.004630</td>\n",
              "    </tr>\n",
              "    <tr>\n",
              "      <th>(19, 24]</th>\n",
              "      <td>0.000000</td>\n",
              "      <td>0.700000</td>\n",
              "      <td>0.242857</td>\n",
              "      <td>0.005714</td>\n",
              "      <td>0.017143</td>\n",
              "      <td>0.034286</td>\n",
              "    </tr>\n",
              "    <tr>\n",
              "      <th>(24, 29]</th>\n",
              "      <td>0.000000</td>\n",
              "      <td>0.708333</td>\n",
              "      <td>0.223214</td>\n",
              "      <td>0.020833</td>\n",
              "      <td>0.014881</td>\n",
              "      <td>0.032738</td>\n",
              "    </tr>\n",
              "    <tr>\n",
              "      <th>(29, 34]</th>\n",
              "      <td>0.000000</td>\n",
              "      <td>0.765101</td>\n",
              "      <td>0.174497</td>\n",
              "      <td>0.023490</td>\n",
              "      <td>0.020134</td>\n",
              "      <td>0.016779</td>\n",
              "    </tr>\n",
              "    <tr>\n",
              "      <th>(34, 39]</th>\n",
              "      <td>0.002778</td>\n",
              "      <td>0.758333</td>\n",
              "      <td>0.211111</td>\n",
              "      <td>0.008333</td>\n",
              "      <td>0.002778</td>\n",
              "      <td>0.016667</td>\n",
              "    </tr>\n",
              "    <tr>\n",
              "      <th>(39, 44]</th>\n",
              "      <td>0.000000</td>\n",
              "      <td>0.751678</td>\n",
              "      <td>0.201342</td>\n",
              "      <td>0.000000</td>\n",
              "      <td>0.020134</td>\n",
              "      <td>0.026846</td>\n",
              "    </tr>\n",
              "    <tr>\n",
              "      <th>(44, 49]</th>\n",
              "      <td>0.000000</td>\n",
              "      <td>0.776667</td>\n",
              "      <td>0.190000</td>\n",
              "      <td>0.006667</td>\n",
              "      <td>0.016667</td>\n",
              "      <td>0.010000</td>\n",
              "    </tr>\n",
              "    <tr>\n",
              "      <th>(49, 54]</th>\n",
              "      <td>0.000000</td>\n",
              "      <td>0.704225</td>\n",
              "      <td>0.278169</td>\n",
              "      <td>0.000000</td>\n",
              "      <td>0.010563</td>\n",
              "      <td>0.007042</td>\n",
              "    </tr>\n",
              "    <tr>\n",
              "      <th>(54, 59]</th>\n",
              "      <td>0.002755</td>\n",
              "      <td>0.724518</td>\n",
              "      <td>0.242424</td>\n",
              "      <td>0.002755</td>\n",
              "      <td>0.013774</td>\n",
              "      <td>0.013774</td>\n",
              "    </tr>\n",
              "    <tr>\n",
              "      <th>(59, 64]</th>\n",
              "      <td>0.005764</td>\n",
              "      <td>0.654179</td>\n",
              "      <td>0.302594</td>\n",
              "      <td>0.011527</td>\n",
              "      <td>0.002882</td>\n",
              "      <td>0.023055</td>\n",
              "    </tr>\n",
              "    <tr>\n",
              "      <th>(64, 69]</th>\n",
              "      <td>0.000000</td>\n",
              "      <td>0.620690</td>\n",
              "      <td>0.356322</td>\n",
              "      <td>0.000000</td>\n",
              "      <td>0.000000</td>\n",
              "      <td>0.022989</td>\n",
              "    </tr>\n",
              "    <tr>\n",
              "      <th>(69, 74]</th>\n",
              "      <td>0.023952</td>\n",
              "      <td>0.574850</td>\n",
              "      <td>0.389222</td>\n",
              "      <td>0.005988</td>\n",
              "      <td>0.000000</td>\n",
              "      <td>0.005988</td>\n",
              "    </tr>\n",
              "    <tr>\n",
              "      <th>(74, 79]</th>\n",
              "      <td>0.109756</td>\n",
              "      <td>0.500000</td>\n",
              "      <td>0.390244</td>\n",
              "      <td>0.000000</td>\n",
              "      <td>0.000000</td>\n",
              "      <td>0.000000</td>\n",
              "    </tr>\n",
              "    <tr>\n",
              "      <th>(79, 84]</th>\n",
              "      <td>0.147059</td>\n",
              "      <td>0.308824</td>\n",
              "      <td>0.529412</td>\n",
              "      <td>0.000000</td>\n",
              "      <td>0.000000</td>\n",
              "      <td>0.014706</td>\n",
              "    </tr>\n",
              "    <tr>\n",
              "      <th>(84, 89]</th>\n",
              "      <td>0.241379</td>\n",
              "      <td>0.275862</td>\n",
              "      <td>0.482759</td>\n",
              "      <td>0.000000</td>\n",
              "      <td>0.000000</td>\n",
              "      <td>0.000000</td>\n",
              "    </tr>\n",
              "    <tr>\n",
              "      <th>(89, 94]</th>\n",
              "      <td>0.200000</td>\n",
              "      <td>0.200000</td>\n",
              "      <td>0.525000</td>\n",
              "      <td>0.000000</td>\n",
              "      <td>0.000000</td>\n",
              "      <td>0.075000</td>\n",
              "    </tr>\n",
              "    <tr>\n",
              "      <th>(94, 99]</th>\n",
              "      <td>0.285714</td>\n",
              "      <td>0.285714</td>\n",
              "      <td>0.428571</td>\n",
              "      <td>0.000000</td>\n",
              "      <td>0.000000</td>\n",
              "      <td>0.000000</td>\n",
              "    </tr>\n",
              "    <tr>\n",
              "      <th>(99, 104]</th>\n",
              "      <td>0.000000</td>\n",
              "      <td>0.000000</td>\n",
              "      <td>1.000000</td>\n",
              "      <td>0.000000</td>\n",
              "      <td>0.000000</td>\n",
              "      <td>0.000000</td>\n",
              "    </tr>\n",
              "  </tbody>\n",
              "</table>\n",
              "</div>"
            ],
            "text/plain": [
              "Hospitalised/Discharged/Deceased  Deceased  ...  To be provided\n",
              "age_bins                                    ...                \n",
              "(0, 4]                            0.000000  ...        0.000000\n",
              "(4, 9]                            0.000000  ...        0.000000\n",
              "(9, 14]                           0.000000  ...        0.000000\n",
              "(14, 19]                          0.000000  ...        0.004630\n",
              "(19, 24]                          0.000000  ...        0.034286\n",
              "(24, 29]                          0.000000  ...        0.032738\n",
              "(29, 34]                          0.000000  ...        0.016779\n",
              "(34, 39]                          0.002778  ...        0.016667\n",
              "(39, 44]                          0.000000  ...        0.026846\n",
              "(44, 49]                          0.000000  ...        0.010000\n",
              "(49, 54]                          0.000000  ...        0.007042\n",
              "(54, 59]                          0.002755  ...        0.013774\n",
              "(59, 64]                          0.005764  ...        0.023055\n",
              "(64, 69]                          0.000000  ...        0.022989\n",
              "(69, 74]                          0.023952  ...        0.005988\n",
              "(74, 79]                          0.109756  ...        0.000000\n",
              "(79, 84]                          0.147059  ...        0.014706\n",
              "(84, 89]                          0.241379  ...        0.000000\n",
              "(89, 94]                          0.200000  ...        0.075000\n",
              "(94, 99]                          0.285714  ...        0.000000\n",
              "(99, 104]                         0.000000  ...        0.000000\n",
              "\n",
              "[21 rows x 6 columns]"
            ]
          },
          "metadata": {
            "tags": []
          }
        }
      ]
    },
    {
      "cell_type": "code",
      "metadata": {
        "id": "7q9FtdZ3SnBt",
        "colab_type": "code",
        "colab": {}
      },
      "source": [
        "#df_7days = df[df['Report date'] > datetime.datetime.now() - pd.to_timedelta(\"8day\")\n",
        "#ax = df_7days.groupby(['Report date']).size().plot(title='COVID19 Trend', kind='bar')\n",
        "#ax.set(ylabel='No. of infections')"
      ],
      "execution_count": 177,
      "outputs": []
    }
  ]
}