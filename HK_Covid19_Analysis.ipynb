{
  "nbformat": 4,
  "nbformat_minor": 0,
  "metadata": {
    "colab": {
      "name": "HK Covid19 Analysis.ipynb",
      "provenance": [],
      "collapsed_sections": [],
      "mount_file_id": "1_oVM16RqLVdUgUmafGL3frwb55yYuByo",
      "authorship_tag": "ABX9TyMi0xBoavwoHlDZU6uJtC2c",
      "include_colab_link": true
    },
    "kernelspec": {
      "name": "python3",
      "display_name": "Python 3"
    }
  },
  "cells": [
    {
      "cell_type": "markdown",
      "metadata": {
        "id": "view-in-github",
        "colab_type": "text"
      },
      "source": [
        "<a href=\"https://colab.research.google.com/github/charlieskc/MachineLearning/blob/master/HK_Covid19_Analysis.ipynb\" target=\"_parent\"><img src=\"https://colab.research.google.com/assets/colab-badge.svg\" alt=\"Open In Colab\"/></a>"
      ]
    },
    {
      "cell_type": "markdown",
      "metadata": {
        "id": "751j_ENVEZjE",
        "colab_type": "text"
      },
      "source": [
        "#Hong Kong COVID-19 Analysis (based on age group)\n",
        "\n",
        "Data downloaded from: http://www.chp.gov.hk/files/misc/enhanced_sur_covid_19_eng.csv\n",
        "\n",
        "There are many statistics about COVID-19 in Hong Kong however there are not much statistic based on age group. This notebook aims to provide COVID-10 mortality statistics based on age group.\n",
        "\n"
      ]
    },
    {
      "cell_type": "code",
      "metadata": {
        "id": "A8iMQL-sC3-l",
        "colab_type": "code",
        "colab": {
          "base_uri": "https://localhost:8080/",
          "height": 381
        },
        "outputId": "1457400f-2294-4d87-de5e-61fbf938b1be"
      },
      "source": [
        "#dataset refresh everyday from the website\n",
        "!rm enhanced_sur_covid_19_eng.csv*\n",
        "!wget http://www.chp.gov.hk/files/misc/enhanced_sur_covid_19_eng.csv\n",
        "#!wget http://www.chp.gov.hk/files/misc/latest_situation_of_reported_cases_covid_19_eng.csv\n",
        "!ls -lh\n",
        "!wc -l enhanced_sur_covid_19_eng.csv"
      ],
      "execution_count": 1,
      "outputs": [
        {
          "output_type": "stream",
          "text": [
            "rm: cannot remove 'enhanced_sur_covid_19_eng.csv*': No such file or directory\n",
            "--2020-08-29 07:38:19--  http://www.chp.gov.hk/files/misc/enhanced_sur_covid_19_eng.csv\n",
            "Resolving www.chp.gov.hk (www.chp.gov.hk)... 104.19.254.59, 104.19.253.59, 2606:4700::6813:fe3b, ...\n",
            "Connecting to www.chp.gov.hk (www.chp.gov.hk)|104.19.254.59|:80... connected.\n",
            "HTTP request sent, awaiting response... 301 Moved Permanently\n",
            "Location: https://www.chp.gov.hk/files/misc/enhanced_sur_covid_19_eng.csv [following]\n",
            "--2020-08-29 07:38:19--  https://www.chp.gov.hk/files/misc/enhanced_sur_covid_19_eng.csv\n",
            "Connecting to www.chp.gov.hk (www.chp.gov.hk)|104.19.254.59|:443... connected.\n",
            "HTTP request sent, awaiting response... 200 OK\n",
            "Length: unspecified [text/csv]\n",
            "Saving to: ‘enhanced_sur_covid_19_eng.csv’\n",
            "\n",
            "enhanced_sur_covid_     [ <=>                ] 434.50K  --.-KB/s    in 0.01s   \n",
            "\n",
            "2020-08-29 07:38:20 (38.0 MB/s) - ‘enhanced_sur_covid_19_eng.csv’ saved [444932]\n",
            "\n",
            "total 444K\n",
            "drwx------ 4 root root 4.0K Aug 29 07:38 drive\n",
            "-rw-r--r-- 1 root root 435K Aug 28 16:25 enhanced_sur_covid_19_eng.csv\n",
            "drwxr-xr-x 1 root root 4.0K Aug 27 16:39 sample_data\n",
            "4770 enhanced_sur_covid_19_eng.csv\n"
          ],
          "name": "stdout"
        }
      ]
    },
    {
      "cell_type": "markdown",
      "metadata": {
        "id": "j0B4xzukRxDM",
        "colab_type": "text"
      },
      "source": [
        "# Import Packages"
      ]
    },
    {
      "cell_type": "code",
      "metadata": {
        "id": "2oBeTR5Ic21U",
        "colab_type": "code",
        "colab": {
          "base_uri": "https://localhost:8080/",
          "height": 72
        },
        "outputId": "968ee3b5-81a5-4045-cd18-0a51ca92dbc8"
      },
      "source": [
        "'''\n",
        "Normally you do not need to install pandas, uncomment if pandas is missing\n",
        "'''\n",
        "#install pandas \n",
        "#!pip install pandas\n",
        "\n",
        "#load packages\n",
        "import sys \n",
        "import pandas as pd \n",
        "import matplotlib \n",
        "import numpy as np \n",
        "import scipy as sp \n",
        "import IPython\n",
        "import datetime\n",
        "from IPython.display import display\n",
        "\n",
        "#Visualization\n",
        "import matplotlib as mpl\n",
        "import matplotlib.pyplot as plt\n",
        "import matplotlib.pylab as pylab\n",
        "from matplotlib.ticker import MaxNLocator\n",
        "import seaborn as sns\n",
        "from pandas.plotting import scatter_matrix\n",
        "\n",
        "#Configure Visualization Defaults\n",
        "#%matplotlib inline = show plots in Jupyter Notebook browser\n",
        "%matplotlib inline\n",
        "mpl.style.use('ggplot')\n",
        "sns.set_style('white')\n",
        "pylab.rcParams['figure.figsize'] = 12,8\n"
      ],
      "execution_count": 2,
      "outputs": [
        {
          "output_type": "stream",
          "text": [
            "/usr/local/lib/python3.6/dist-packages/statsmodels/tools/_testing.py:19: FutureWarning: pandas.util.testing is deprecated. Use the functions in the public API at pandas.testing instead.\n",
            "  import pandas.util.testing as tm\n"
          ],
          "name": "stderr"
        }
      ]
    },
    {
      "cell_type": "markdown",
      "metadata": {
        "id": "2OtRpnBHSZEj",
        "colab_type": "text"
      },
      "source": [
        "# Load Data Files\n",
        "\n",
        "##Age group engineering:\n",
        "1. Age is categorized into age_bins. Grouping based on WHO https://www.who.int/healthinfo/paper31.pdf?ua=1\n"
      ]
    },
    {
      "cell_type": "code",
      "metadata": {
        "id": "tV16IYqsKI-K",
        "colab_type": "code",
        "colab": {
          "base_uri": "https://localhost:8080/",
          "height": 375
        },
        "outputId": "e93f5162-b5a0-4721-b3f1-bb42b8532f4a"
      },
      "source": [
        "df = pd.read_csv('/content/enhanced_sur_covid_19_eng.csv')\n",
        "df['Report date'] =  pd.to_datetime(df['Report date'], format='%d/%m/%Y')\n",
        "\n",
        "#df1 = pd.read_csv('/content/latest_situation_of_reported_cases_covid_19_eng.csv')\n",
        "\n",
        "#categorize age into age group. age group based on WHO https://www.who.int/healthinfo/paper31.pdf?ua=1\n",
        "ageBin= [0,4,9,14,19,24,29,34,39,44,49,54,59,64,69,74,79,84,89,94,100]\n",
        "df['age_bins'] = pd.cut(x=df['Age'], bins=ageBin)\n",
        "\n",
        "#preview data\n",
        "df.sample(5) \n",
        "\n",
        "#print(df.dtypes)"
      ],
      "execution_count": 3,
      "outputs": [
        {
          "output_type": "execute_result",
          "data": {
            "text/html": [
              "<div>\n",
              "<style scoped>\n",
              "    .dataframe tbody tr th:only-of-type {\n",
              "        vertical-align: middle;\n",
              "    }\n",
              "\n",
              "    .dataframe tbody tr th {\n",
              "        vertical-align: top;\n",
              "    }\n",
              "\n",
              "    .dataframe thead th {\n",
              "        text-align: right;\n",
              "    }\n",
              "</style>\n",
              "<table border=\"1\" class=\"dataframe\">\n",
              "  <thead>\n",
              "    <tr style=\"text-align: right;\">\n",
              "      <th></th>\n",
              "      <th>Case no.</th>\n",
              "      <th>Report date</th>\n",
              "      <th>Date of onset</th>\n",
              "      <th>Gender</th>\n",
              "      <th>Age</th>\n",
              "      <th>Name of hospital admitted</th>\n",
              "      <th>Hospitalised/Discharged/Deceased</th>\n",
              "      <th>HK/Non-HK resident</th>\n",
              "      <th>Case classification*</th>\n",
              "      <th>Confirmed/probable</th>\n",
              "      <th>age_bins</th>\n",
              "    </tr>\n",
              "  </thead>\n",
              "  <tbody>\n",
              "    <tr>\n",
              "      <th>1322</th>\n",
              "      <td>1323</td>\n",
              "      <td>2020-07-08</td>\n",
              "      <td>07/07/2020</td>\n",
              "      <td>M</td>\n",
              "      <td>70</td>\n",
              "      <td>NaN</td>\n",
              "      <td>Discharged</td>\n",
              "      <td>HK resident</td>\n",
              "      <td>Epidemiologically linked with local case</td>\n",
              "      <td>Confirmed</td>\n",
              "      <td>(69, 74]</td>\n",
              "    </tr>\n",
              "    <tr>\n",
              "      <th>4120</th>\n",
              "      <td>4121</td>\n",
              "      <td>2020-08-10</td>\n",
              "      <td>Asymptomatic</td>\n",
              "      <td>M</td>\n",
              "      <td>62</td>\n",
              "      <td>NaN</td>\n",
              "      <td>Hospitalised</td>\n",
              "      <td>HK Resident</td>\n",
              "      <td>Local case</td>\n",
              "      <td>Confirmed</td>\n",
              "      <td>(59, 64]</td>\n",
              "    </tr>\n",
              "    <tr>\n",
              "      <th>3855</th>\n",
              "      <td>3856</td>\n",
              "      <td>2020-08-07</td>\n",
              "      <td>Asymptomatic</td>\n",
              "      <td>M</td>\n",
              "      <td>33</td>\n",
              "      <td>NaN</td>\n",
              "      <td>Discharged</td>\n",
              "      <td>Unknown</td>\n",
              "      <td>Imported case</td>\n",
              "      <td>Confirmed</td>\n",
              "      <td>(29, 34]</td>\n",
              "    </tr>\n",
              "    <tr>\n",
              "      <th>3729</th>\n",
              "      <td>3730</td>\n",
              "      <td>2020-08-05</td>\n",
              "      <td>01/08/2020</td>\n",
              "      <td>M</td>\n",
              "      <td>26</td>\n",
              "      <td>NaN</td>\n",
              "      <td>Discharged</td>\n",
              "      <td>HK Resident</td>\n",
              "      <td>Epidemiologically linked with local case</td>\n",
              "      <td>Confirmed</td>\n",
              "      <td>(24, 29]</td>\n",
              "    </tr>\n",
              "    <tr>\n",
              "      <th>1409</th>\n",
              "      <td>1410</td>\n",
              "      <td>2020-07-11</td>\n",
              "      <td>Asymptomatic</td>\n",
              "      <td>M</td>\n",
              "      <td>70</td>\n",
              "      <td>NaN</td>\n",
              "      <td>Discharged</td>\n",
              "      <td>HK Resident</td>\n",
              "      <td>Epidemiologically linked with local case</td>\n",
              "      <td>Confirmed</td>\n",
              "      <td>(69, 74]</td>\n",
              "    </tr>\n",
              "  </tbody>\n",
              "</table>\n",
              "</div>"
            ],
            "text/plain": [
              "      Case no. Report date  ... Confirmed/probable  age_bins\n",
              "1322      1323  2020-07-08  ...          Confirmed  (69, 74]\n",
              "4120      4121  2020-08-10  ...          Confirmed  (59, 64]\n",
              "3855      3856  2020-08-07  ...          Confirmed  (29, 34]\n",
              "3729      3730  2020-08-05  ...          Confirmed  (24, 29]\n",
              "1409      1410  2020-07-11  ...          Confirmed  (69, 74]\n",
              "\n",
              "[5 rows x 11 columns]"
            ]
          },
          "metadata": {
            "tags": []
          },
          "execution_count": 3
        }
      ]
    },
    {
      "cell_type": "markdown",
      "metadata": {
        "id": "qfo0zWMPav1H",
        "colab_type": "text"
      },
      "source": [
        "# Data Description"
      ]
    },
    {
      "cell_type": "code",
      "metadata": {
        "id": "Cw-mPNGP28GU",
        "colab_type": "code",
        "colab": {
          "base_uri": "https://localhost:8080/",
          "height": 606
        },
        "outputId": "6e5fe4cc-0f31-4ee6-fc45-7defa3639917"
      },
      "source": [
        "df.describe(include = 'all')\n"
      ],
      "execution_count": 4,
      "outputs": [
        {
          "output_type": "execute_result",
          "data": {
            "text/html": [
              "<div>\n",
              "<style scoped>\n",
              "    .dataframe tbody tr th:only-of-type {\n",
              "        vertical-align: middle;\n",
              "    }\n",
              "\n",
              "    .dataframe tbody tr th {\n",
              "        vertical-align: top;\n",
              "    }\n",
              "\n",
              "    .dataframe thead th {\n",
              "        text-align: right;\n",
              "    }\n",
              "</style>\n",
              "<table border=\"1\" class=\"dataframe\">\n",
              "  <thead>\n",
              "    <tr style=\"text-align: right;\">\n",
              "      <th></th>\n",
              "      <th>Case no.</th>\n",
              "      <th>Report date</th>\n",
              "      <th>Date of onset</th>\n",
              "      <th>Gender</th>\n",
              "      <th>Age</th>\n",
              "      <th>Name of hospital admitted</th>\n",
              "      <th>Hospitalised/Discharged/Deceased</th>\n",
              "      <th>HK/Non-HK resident</th>\n",
              "      <th>Case classification*</th>\n",
              "      <th>Confirmed/probable</th>\n",
              "      <th>age_bins</th>\n",
              "    </tr>\n",
              "  </thead>\n",
              "  <tbody>\n",
              "    <tr>\n",
              "      <th>count</th>\n",
              "      <td>4769.000000</td>\n",
              "      <td>4769</td>\n",
              "      <td>4769</td>\n",
              "      <td>4769</td>\n",
              "      <td>4769.000000</td>\n",
              "      <td>0.0</td>\n",
              "      <td>4769</td>\n",
              "      <td>4769</td>\n",
              "      <td>4769</td>\n",
              "      <td>4769</td>\n",
              "      <td>4758</td>\n",
              "    </tr>\n",
              "    <tr>\n",
              "      <th>unique</th>\n",
              "      <td>NaN</td>\n",
              "      <td>180</td>\n",
              "      <td>178</td>\n",
              "      <td>2</td>\n",
              "      <td>NaN</td>\n",
              "      <td>NaN</td>\n",
              "      <td>5</td>\n",
              "      <td>5</td>\n",
              "      <td>6</td>\n",
              "      <td>2</td>\n",
              "      <td>20</td>\n",
              "    </tr>\n",
              "    <tr>\n",
              "      <th>top</th>\n",
              "      <td>NaN</td>\n",
              "      <td>2020-07-30 00:00:00</td>\n",
              "      <td>Asymptomatic</td>\n",
              "      <td>F</td>\n",
              "      <td>NaN</td>\n",
              "      <td>NaN</td>\n",
              "      <td>Discharged</td>\n",
              "      <td>HK Resident</td>\n",
              "      <td>Epidemiologically linked with local case</td>\n",
              "      <td>Confirmed</td>\n",
              "      <td>(59, 64]</td>\n",
              "    </tr>\n",
              "    <tr>\n",
              "      <th>freq</th>\n",
              "      <td>NaN</td>\n",
              "      <td>149</td>\n",
              "      <td>1098</td>\n",
              "      <td>2387</td>\n",
              "      <td>NaN</td>\n",
              "      <td>NaN</td>\n",
              "      <td>4249</td>\n",
              "      <td>3247</td>\n",
              "      <td>2131</td>\n",
              "      <td>4768</td>\n",
              "      <td>426</td>\n",
              "    </tr>\n",
              "    <tr>\n",
              "      <th>first</th>\n",
              "      <td>NaN</td>\n",
              "      <td>2020-01-23 00:00:00</td>\n",
              "      <td>NaN</td>\n",
              "      <td>NaN</td>\n",
              "      <td>NaN</td>\n",
              "      <td>NaN</td>\n",
              "      <td>NaN</td>\n",
              "      <td>NaN</td>\n",
              "      <td>NaN</td>\n",
              "      <td>NaN</td>\n",
              "      <td>NaN</td>\n",
              "    </tr>\n",
              "    <tr>\n",
              "      <th>last</th>\n",
              "      <td>NaN</td>\n",
              "      <td>2020-08-28 00:00:00</td>\n",
              "      <td>NaN</td>\n",
              "      <td>NaN</td>\n",
              "      <td>NaN</td>\n",
              "      <td>NaN</td>\n",
              "      <td>NaN</td>\n",
              "      <td>NaN</td>\n",
              "      <td>NaN</td>\n",
              "      <td>NaN</td>\n",
              "      <td>NaN</td>\n",
              "    </tr>\n",
              "    <tr>\n",
              "      <th>mean</th>\n",
              "      <td>2385.000000</td>\n",
              "      <td>NaN</td>\n",
              "      <td>NaN</td>\n",
              "      <td>NaN</td>\n",
              "      <td>44.081988</td>\n",
              "      <td>NaN</td>\n",
              "      <td>NaN</td>\n",
              "      <td>NaN</td>\n",
              "      <td>NaN</td>\n",
              "      <td>NaN</td>\n",
              "      <td>NaN</td>\n",
              "    </tr>\n",
              "    <tr>\n",
              "      <th>std</th>\n",
              "      <td>1376.836047</td>\n",
              "      <td>NaN</td>\n",
              "      <td>NaN</td>\n",
              "      <td>NaN</td>\n",
              "      <td>20.291432</td>\n",
              "      <td>NaN</td>\n",
              "      <td>NaN</td>\n",
              "      <td>NaN</td>\n",
              "      <td>NaN</td>\n",
              "      <td>NaN</td>\n",
              "      <td>NaN</td>\n",
              "    </tr>\n",
              "    <tr>\n",
              "      <th>min</th>\n",
              "      <td>1.000000</td>\n",
              "      <td>NaN</td>\n",
              "      <td>NaN</td>\n",
              "      <td>NaN</td>\n",
              "      <td>0.000000</td>\n",
              "      <td>NaN</td>\n",
              "      <td>NaN</td>\n",
              "      <td>NaN</td>\n",
              "      <td>NaN</td>\n",
              "      <td>NaN</td>\n",
              "      <td>NaN</td>\n",
              "    </tr>\n",
              "    <tr>\n",
              "      <th>25%</th>\n",
              "      <td>1193.000000</td>\n",
              "      <td>NaN</td>\n",
              "      <td>NaN</td>\n",
              "      <td>NaN</td>\n",
              "      <td>28.000000</td>\n",
              "      <td>NaN</td>\n",
              "      <td>NaN</td>\n",
              "      <td>NaN</td>\n",
              "      <td>NaN</td>\n",
              "      <td>NaN</td>\n",
              "      <td>NaN</td>\n",
              "    </tr>\n",
              "    <tr>\n",
              "      <th>50%</th>\n",
              "      <td>2385.000000</td>\n",
              "      <td>NaN</td>\n",
              "      <td>NaN</td>\n",
              "      <td>NaN</td>\n",
              "      <td>44.000000</td>\n",
              "      <td>NaN</td>\n",
              "      <td>NaN</td>\n",
              "      <td>NaN</td>\n",
              "      <td>NaN</td>\n",
              "      <td>NaN</td>\n",
              "      <td>NaN</td>\n",
              "    </tr>\n",
              "    <tr>\n",
              "      <th>75%</th>\n",
              "      <td>3577.000000</td>\n",
              "      <td>NaN</td>\n",
              "      <td>NaN</td>\n",
              "      <td>NaN</td>\n",
              "      <td>60.000000</td>\n",
              "      <td>NaN</td>\n",
              "      <td>NaN</td>\n",
              "      <td>NaN</td>\n",
              "      <td>NaN</td>\n",
              "      <td>NaN</td>\n",
              "      <td>NaN</td>\n",
              "    </tr>\n",
              "    <tr>\n",
              "      <th>max</th>\n",
              "      <td>4769.000000</td>\n",
              "      <td>NaN</td>\n",
              "      <td>NaN</td>\n",
              "      <td>NaN</td>\n",
              "      <td>100.000000</td>\n",
              "      <td>NaN</td>\n",
              "      <td>NaN</td>\n",
              "      <td>NaN</td>\n",
              "      <td>NaN</td>\n",
              "      <td>NaN</td>\n",
              "      <td>NaN</td>\n",
              "    </tr>\n",
              "  </tbody>\n",
              "</table>\n",
              "</div>"
            ],
            "text/plain": [
              "           Case no.          Report date  ... Confirmed/probable  age_bins\n",
              "count   4769.000000                 4769  ...               4769      4758\n",
              "unique          NaN                  180  ...                  2        20\n",
              "top             NaN  2020-07-30 00:00:00  ...          Confirmed  (59, 64]\n",
              "freq            NaN                  149  ...               4768       426\n",
              "first           NaN  2020-01-23 00:00:00  ...                NaN       NaN\n",
              "last            NaN  2020-08-28 00:00:00  ...                NaN       NaN\n",
              "mean    2385.000000                  NaN  ...                NaN       NaN\n",
              "std     1376.836047                  NaN  ...                NaN       NaN\n",
              "min        1.000000                  NaN  ...                NaN       NaN\n",
              "25%     1193.000000                  NaN  ...                NaN       NaN\n",
              "50%     2385.000000                  NaN  ...                NaN       NaN\n",
              "75%     3577.000000                  NaN  ...                NaN       NaN\n",
              "max     4769.000000                  NaN  ...                NaN       NaN\n",
              "\n",
              "[13 rows x 11 columns]"
            ]
          },
          "metadata": {
            "tags": []
          },
          "execution_count": 4
        }
      ]
    },
    {
      "cell_type": "markdown",
      "metadata": {
        "id": "3f_D4cuxa-RK",
        "colab_type": "text"
      },
      "source": [
        "#Statistics - Gender"
      ]
    },
    {
      "cell_type": "code",
      "metadata": {
        "id": "1VvBBnD226tm",
        "colab_type": "code",
        "colab": {
          "base_uri": "https://localhost:8080/",
          "height": 1000
        },
        "outputId": "925080ed-ec03-4af2-d7aa-7138b13978f0"
      },
      "source": [
        "ax1 = df.groupby(['age_bins']).size().plot(title='COVID19 - Age Group Distribution', kind='bar')\n",
        "ax1.set(ylabel='No. of infections')\n",
        "\n",
        "#df.groupby(['Hospitalised/Discharged/Deceased']).size().plot(title='COVID19 Gender Distribution', kind='bar')\n",
        "#df.groupby(['Gender']).size().plot(title='COVID19 Gender Distribution', kind='bar')\n",
        "\n",
        "\n",
        "ax2 = pd.crosstab(df['age_bins'],df['Gender']).plot(title='COVID19 - Age Group & Gender Distribution', kind='bar')\n",
        "ax2.set(ylabel='No. of infections')\n",
        "\n",
        "#pd.crosstab(df['Gender'],df['Hospitalised/Discharged/Deceased']).plot.bar()\n"
      ],
      "execution_count": 5,
      "outputs": [
        {
          "output_type": "execute_result",
          "data": {
            "text/plain": [
              "[Text(0, 0.5, 'No. of infections')]"
            ]
          },
          "metadata": {
            "tags": []
          },
          "execution_count": 5
        },
        {
          "output_type": "display_data",
          "data": {
            "image/png": "[encoded data removed]",
            "text/plain": [
              "<Figure size 864x576 with 1 Axes>"
            ]
          },
          "metadata": {
            "tags": []
          }
        },
        {
          "output_type": "display_data",
          "data": {
            "image/png": "[encoded data removed]",
            "text/plain": [
              "<Figure size 864x576 with 1 Axes>"
            ]
          },
          "metadata": {
            "tags": []
          }
        }
      ]
    },
    {
      "cell_type": "markdown",
      "metadata": {
        "id": "8_6uQ6CrZ5XR",
        "colab_type": "text"
      },
      "source": [
        "# Statistics - Case Fatality Rate\n",
        "In epidemiology, a case fatality rate (CFR) — sometimes called case fatality risk or case-fatality ratio — is the proportion of deaths from a certain disease compared to the total number of people diagnosed with the disease for a particular period. \n",
        "\n",
        "https://en.wikipedia.org/wiki/Case_fatality_rate"
      ]
    },
    {
      "cell_type": "code",
      "metadata": {
        "id": "LxvWbSotC2Q3",
        "colab_type": "code",
        "colab": {
          "base_uri": "https://localhost:8080/",
          "height": 617
        },
        "outputId": "d6ec820e-5a16-428b-a5a3-987a033d2619"
      },
      "source": [
        "#No. of deceased per Age group\n",
        "df_deceased = df[df['Hospitalised/Discharged/Deceased']=='Deceased']\n",
        "\n",
        "m_rate = round(len(df_deceased) / len(df), 4)\n",
        "display(IPython.display.HTML('<h2>Case fatality rate: ' + str(m_rate) + '</h2>'))\n",
        "\n",
        "#case fatality rate\n",
        "df_ratio = pd.crosstab(df['age_bins'],df['Hospitalised/Discharged/Deceased']).apply(lambda r: r/r.sum(), axis=1)\n",
        "ax=df_ratio[['Deceased']].plot(title='Mortality rate per age group', kind='bar')\n",
        "ax.set(ylabel='Case Fatality Rate')\n"
      ],
      "execution_count": 6,
      "outputs": [
        {
          "output_type": "display_data",
          "data": {
            "text/html": [
              "<h2>Case fatality rate: 0.0174</h2>"
            ],
            "text/plain": [
              "<IPython.core.display.HTML object>"
            ]
          },
          "metadata": {
            "tags": []
          }
        },
        {
          "output_type": "execute_result",
          "data": {
            "text/plain": [
              "[Text(0, 0.5, 'Case Fatality Rate')]"
            ]
          },
          "metadata": {
            "tags": []
          },
          "execution_count": 6
        },
        {
          "output_type": "display_data",
          "data": {
            "image/png": "[encoded data removed]",
            "text/plain": [
              "<Figure size 864x576 with 1 Axes>"
            ]
          },
          "metadata": {
            "tags": []
          }
        }
      ]
    },
    {
      "cell_type": "code",
      "metadata": {
        "id": "L2-ScH6EEz_Q",
        "colab_type": "code",
        "colab": {
          "base_uri": "https://localhost:8080/",
          "height": 1000
        },
        "outputId": "29325e9e-6113-471a-e677-97ee22ddffd3"
      },
      "source": [
        "display(IPython.display.HTML('<h2> Total no. of deceased: ' + str(len(df_deceased)) +  '</h2>'))\n",
        "\n",
        "display(df_deceased.groupby(['Hospitalised/Discharged/Deceased','age_bins']).size())\n",
        "ax=df_deceased.groupby(['Hospitalised/Discharged/Deceased','age_bins']).size().plot(title='No. of deceased per age group', kind='bar')\n",
        "ax.set(ylabel='No. of deceased case')\n",
        "ax.yaxis.set_major_locator(MaxNLocator(integer=True))\n"
      ],
      "execution_count": 7,
      "outputs": [
        {
          "output_type": "display_data",
          "data": {
            "text/html": [
              "<h2> Total no. of deceased: 83</h2>"
            ],
            "text/plain": [
              "<IPython.core.display.HTML object>"
            ]
          },
          "metadata": {
            "tags": []
          }
        },
        {
          "output_type": "display_data",
          "data": {
            "text/plain": [
              "Hospitalised/Discharged/Deceased  age_bins \n",
              "Deceased                          (0, 4]        0\n",
              "                                  (4, 9]        0\n",
              "                                  (9, 14]       0\n",
              "                                  (14, 19]      0\n",
              "                                  (19, 24]      0\n",
              "                                  (24, 29]      0\n",
              "                                  (29, 34]      0\n",
              "                                  (34, 39]      1\n",
              "                                  (39, 44]      0\n",
              "                                  (44, 49]      0\n",
              "                                  (49, 54]      0\n",
              "                                  (54, 59]      1\n",
              "                                  (59, 64]      3\n",
              "                                  (64, 69]      2\n",
              "                                  (69, 74]      9\n",
              "                                  (74, 79]     15\n",
              "                                  (79, 84]     15\n",
              "                                  (84, 89]     20\n",
              "                                  (89, 94]     14\n",
              "                                  (94, 100]     3\n",
              "dtype: int64"
            ]
          },
          "metadata": {
            "tags": []
          }
        },
        {
          "output_type": "display_data",
          "data": {
            "image/png": "[encoded data removed]",
            "text/plain": [
              "<Figure size 864x576 with 1 Axes>"
            ]
          },
          "metadata": {
            "tags": []
          }
        }
      ]
    },
    {
      "cell_type": "code",
      "metadata": {
        "id": "ciTXqWh2QBDz",
        "colab_type": "code",
        "colab": {
          "base_uri": "https://localhost:8080/",
          "height": 693
        },
        "outputId": "7f352b58-8ea8-4752-9c0f-784d8397a052"
      },
      "source": [
        "#Ratio Breakdown\n",
        "display(df_ratio)\n",
        "\n"
      ],
      "execution_count": 8,
      "outputs": [
        {
          "output_type": "display_data",
          "data": {
            "text/html": [
              "<div>\n",
              "<style scoped>\n",
              "    .dataframe tbody tr th:only-of-type {\n",
              "        vertical-align: middle;\n",
              "    }\n",
              "\n",
              "    .dataframe tbody tr th {\n",
              "        vertical-align: top;\n",
              "    }\n",
              "\n",
              "    .dataframe thead th {\n",
              "        text-align: right;\n",
              "    }\n",
              "</style>\n",
              "<table border=\"1\" class=\"dataframe\">\n",
              "  <thead>\n",
              "    <tr style=\"text-align: right;\">\n",
              "      <th>Hospitalised/Discharged/Deceased</th>\n",
              "      <th>Deceased</th>\n",
              "      <th>Discharged</th>\n",
              "      <th>Hospitalised</th>\n",
              "      <th>No admission</th>\n",
              "      <th>To be provided</th>\n",
              "    </tr>\n",
              "    <tr>\n",
              "      <th>age_bins</th>\n",
              "      <th></th>\n",
              "      <th></th>\n",
              "      <th></th>\n",
              "      <th></th>\n",
              "      <th></th>\n",
              "    </tr>\n",
              "  </thead>\n",
              "  <tbody>\n",
              "    <tr>\n",
              "      <th>(0, 4]</th>\n",
              "      <td>0.000000</td>\n",
              "      <td>0.932584</td>\n",
              "      <td>0.067416</td>\n",
              "      <td>0.000000</td>\n",
              "      <td>0.000000</td>\n",
              "    </tr>\n",
              "    <tr>\n",
              "      <th>(4, 9]</th>\n",
              "      <td>0.000000</td>\n",
              "      <td>0.931034</td>\n",
              "      <td>0.068966</td>\n",
              "      <td>0.000000</td>\n",
              "      <td>0.000000</td>\n",
              "    </tr>\n",
              "    <tr>\n",
              "      <th>(9, 14]</th>\n",
              "      <td>0.000000</td>\n",
              "      <td>0.927928</td>\n",
              "      <td>0.072072</td>\n",
              "      <td>0.000000</td>\n",
              "      <td>0.000000</td>\n",
              "    </tr>\n",
              "    <tr>\n",
              "      <th>(14, 19]</th>\n",
              "      <td>0.000000</td>\n",
              "      <td>0.953782</td>\n",
              "      <td>0.037815</td>\n",
              "      <td>0.004202</td>\n",
              "      <td>0.004202</td>\n",
              "    </tr>\n",
              "    <tr>\n",
              "      <th>(19, 24]</th>\n",
              "      <td>0.000000</td>\n",
              "      <td>0.949622</td>\n",
              "      <td>0.045340</td>\n",
              "      <td>0.005038</td>\n",
              "      <td>0.000000</td>\n",
              "    </tr>\n",
              "    <tr>\n",
              "      <th>(24, 29]</th>\n",
              "      <td>0.000000</td>\n",
              "      <td>0.930233</td>\n",
              "      <td>0.049096</td>\n",
              "      <td>0.018088</td>\n",
              "      <td>0.002584</td>\n",
              "    </tr>\n",
              "    <tr>\n",
              "      <th>(29, 34]</th>\n",
              "      <td>0.000000</td>\n",
              "      <td>0.945087</td>\n",
              "      <td>0.034682</td>\n",
              "      <td>0.017341</td>\n",
              "      <td>0.002890</td>\n",
              "    </tr>\n",
              "    <tr>\n",
              "      <th>(34, 39]</th>\n",
              "      <td>0.002415</td>\n",
              "      <td>0.925121</td>\n",
              "      <td>0.062802</td>\n",
              "      <td>0.009662</td>\n",
              "      <td>0.000000</td>\n",
              "    </tr>\n",
              "    <tr>\n",
              "      <th>(39, 44]</th>\n",
              "      <td>0.000000</td>\n",
              "      <td>0.932584</td>\n",
              "      <td>0.061798</td>\n",
              "      <td>0.000000</td>\n",
              "      <td>0.005618</td>\n",
              "    </tr>\n",
              "    <tr>\n",
              "      <th>(44, 49]</th>\n",
              "      <td>0.000000</td>\n",
              "      <td>0.920228</td>\n",
              "      <td>0.071225</td>\n",
              "      <td>0.005698</td>\n",
              "      <td>0.002849</td>\n",
              "    </tr>\n",
              "    <tr>\n",
              "      <th>(49, 54]</th>\n",
              "      <td>0.000000</td>\n",
              "      <td>0.898256</td>\n",
              "      <td>0.093023</td>\n",
              "      <td>0.000000</td>\n",
              "      <td>0.008721</td>\n",
              "    </tr>\n",
              "    <tr>\n",
              "      <th>(54, 59]</th>\n",
              "      <td>0.002364</td>\n",
              "      <td>0.921986</td>\n",
              "      <td>0.070922</td>\n",
              "      <td>0.002364</td>\n",
              "      <td>0.002364</td>\n",
              "    </tr>\n",
              "    <tr>\n",
              "      <th>(59, 64]</th>\n",
              "      <td>0.007042</td>\n",
              "      <td>0.861502</td>\n",
              "      <td>0.119718</td>\n",
              "      <td>0.009390</td>\n",
              "      <td>0.002347</td>\n",
              "    </tr>\n",
              "    <tr>\n",
              "      <th>(64, 69]</th>\n",
              "      <td>0.006667</td>\n",
              "      <td>0.880000</td>\n",
              "      <td>0.106667</td>\n",
              "      <td>0.000000</td>\n",
              "      <td>0.006667</td>\n",
              "    </tr>\n",
              "    <tr>\n",
              "      <th>(69, 74]</th>\n",
              "      <td>0.046875</td>\n",
              "      <td>0.786458</td>\n",
              "      <td>0.166667</td>\n",
              "      <td>0.000000</td>\n",
              "      <td>0.000000</td>\n",
              "    </tr>\n",
              "    <tr>\n",
              "      <th>(74, 79]</th>\n",
              "      <td>0.151515</td>\n",
              "      <td>0.616162</td>\n",
              "      <td>0.232323</td>\n",
              "      <td>0.000000</td>\n",
              "      <td>0.000000</td>\n",
              "    </tr>\n",
              "    <tr>\n",
              "      <th>(79, 84]</th>\n",
              "      <td>0.192308</td>\n",
              "      <td>0.538462</td>\n",
              "      <td>0.269231</td>\n",
              "      <td>0.000000</td>\n",
              "      <td>0.000000</td>\n",
              "    </tr>\n",
              "    <tr>\n",
              "      <th>(84, 89]</th>\n",
              "      <td>0.307692</td>\n",
              "      <td>0.492308</td>\n",
              "      <td>0.200000</td>\n",
              "      <td>0.000000</td>\n",
              "      <td>0.000000</td>\n",
              "    </tr>\n",
              "    <tr>\n",
              "      <th>(89, 94]</th>\n",
              "      <td>0.311111</td>\n",
              "      <td>0.466667</td>\n",
              "      <td>0.222222</td>\n",
              "      <td>0.000000</td>\n",
              "      <td>0.000000</td>\n",
              "    </tr>\n",
              "    <tr>\n",
              "      <th>(94, 100]</th>\n",
              "      <td>0.300000</td>\n",
              "      <td>0.500000</td>\n",
              "      <td>0.200000</td>\n",
              "      <td>0.000000</td>\n",
              "      <td>0.000000</td>\n",
              "    </tr>\n",
              "  </tbody>\n",
              "</table>\n",
              "</div>"
            ],
            "text/plain": [
              "Hospitalised/Discharged/Deceased  Deceased  ...  To be provided\n",
              "age_bins                                    ...                \n",
              "(0, 4]                            0.000000  ...        0.000000\n",
              "(4, 9]                            0.000000  ...        0.000000\n",
              "(9, 14]                           0.000000  ...        0.000000\n",
              "(14, 19]                          0.000000  ...        0.004202\n",
              "(19, 24]                          0.000000  ...        0.000000\n",
              "(24, 29]                          0.000000  ...        0.002584\n",
              "(29, 34]                          0.000000  ...        0.002890\n",
              "(34, 39]                          0.002415  ...        0.000000\n",
              "(39, 44]                          0.000000  ...        0.005618\n",
              "(44, 49]                          0.000000  ...        0.002849\n",
              "(49, 54]                          0.000000  ...        0.008721\n",
              "(54, 59]                          0.002364  ...        0.002364\n",
              "(59, 64]                          0.007042  ...        0.002347\n",
              "(64, 69]                          0.006667  ...        0.006667\n",
              "(69, 74]                          0.046875  ...        0.000000\n",
              "(74, 79]                          0.151515  ...        0.000000\n",
              "(79, 84]                          0.192308  ...        0.000000\n",
              "(84, 89]                          0.307692  ...        0.000000\n",
              "(89, 94]                          0.311111  ...        0.000000\n",
              "(94, 100]                         0.300000  ...        0.000000\n",
              "\n",
              "[20 rows x 5 columns]"
            ]
          },
          "metadata": {
            "tags": []
          }
        }
      ]
    },
    {
      "cell_type": "code",
      "metadata": {
        "id": "7q9FtdZ3SnBt",
        "colab_type": "code",
        "colab": {
          "base_uri": "https://localhost:8080/",
          "height": 785
        },
        "outputId": "b70265af-167d-4a88-e5ed-284ba0d574dc"
      },
      "source": [
        "df_7days = df[df['Report date'] > datetime.datetime.now() - pd.to_timedelta(\"8day\")]\n",
        "df_7days_grouped = df_7days.groupby(['Report date']).size()\n",
        "\n",
        "display(df_7days_grouped)\n",
        "\n",
        "ax = df_7days_grouped.plot(title='COVID19 Trend', kind='bar')\n",
        "ax.set(ylabel='No. of infections')\n",
        "\n"
      ],
      "execution_count": 9,
      "outputs": [
        {
          "output_type": "display_data",
          "data": {
            "text/plain": [
              "Report date\n",
              "2020-08-22    26\n",
              "2020-08-23    25\n",
              "2020-08-24     9\n",
              "2020-08-25    19\n",
              "2020-08-26    24\n",
              "2020-08-27    21\n",
              "2020-08-28    13\n",
              "dtype: int64"
            ]
          },
          "metadata": {
            "tags": []
          }
        },
        {
          "output_type": "execute_result",
          "data": {
            "text/plain": [
              "[Text(0, 0.5, 'No. of infections')]"
            ]
          },
          "metadata": {
            "tags": []
          },
          "execution_count": 9
        },
        {
          "output_type": "display_data",
          "data": {
            "image/png": "[encoded data removed]",
            "text/plain": [
              "<Figure size 864x576 with 1 Axes>"
            ]
          },
          "metadata": {
            "tags": []
          }
        }
      ]
    }
  ]
}