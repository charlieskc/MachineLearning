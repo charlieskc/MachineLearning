{
  "nbformat": 4,
  "nbformat_minor": 0,
  "metadata": {
    "colab": {
      "name": "HK Covid19 Analysis.ipynb",
      "provenance": [],
      "collapsed_sections": [],
      "mount_file_id": "1_oVM16RqLVdUgUmafGL3frwb55yYuByo",
      "authorship_tag": "ABX9TyMi0xBoavwoHlDZU6uJtC2c",
      "include_colab_link": true
    },
    "kernelspec": {
      "name": "python3",
      "display_name": "Python 3"
    }
  },
  "cells": [
    {
      "cell_type": "markdown",
      "metadata": {
        "id": "view-in-github",
        "colab_type": "text"
      },
      "source": [
        "<a href=\"https://colab.research.google.com/github/charlieskc/MachineLearning/blob/master/HK_Covid19_Analysis.ipynb\" target=\"_parent\"><img src=\"https://colab.research.google.com/assets/colab-badge.svg\" alt=\"Open In Colab\"/></a>"
      ]
    },
    {
      "cell_type": "markdown",
      "metadata": {
        "id": "751j_ENVEZjE",
        "colab_type": "text"
      },
      "source": [
        "#Hong Kong COVID-19 Analysis (based on age group)\n",
        "\n",
        "Data downloaded from: http://www.chp.gov.hk/files/misc/enhanced_sur_covid_19_eng.csv\n",
        "\n",
        "There are many statistics about COVID-19 in Hong Kong however there are not much statistic based on age group. This notebook aims to provide COVID-10 mortality statistics based on age group.\n",
        "\n"
      ]
    },
    {
      "cell_type": "code",
      "metadata": {
        "id": "A8iMQL-sC3-l",
        "colab_type": "code",
        "colab": {
          "base_uri": "https://localhost:8080/",
          "height": 357
        },
        "outputId": "3f998a92-dc53-4170-e292-ed8b5dafa15c"
      },
      "source": [
        "#dataset refresh everyday from the website\n",
        "!rm enhanced_sur_covid_19_eng.csv*\n",
        "!wget http://www.chp.gov.hk/files/misc/enhanced_sur_covid_19_eng.csv\n",
        "#!wget http://www.chp.gov.hk/files/misc/latest_situation_of_reported_cases_covid_19_eng.csv\n",
        "!ls -lh\n",
        "!wc -l enhanced_sur_covid_19_eng.csv"
      ],
      "execution_count": 19,
      "outputs": [
        {
          "output_type": "stream",
          "text": [
            "--2020-08-28 06:55:49--  http://www.chp.gov.hk/files/misc/enhanced_sur_covid_19_eng.csv\n",
            "Resolving www.chp.gov.hk (www.chp.gov.hk)... 104.19.254.59, 104.19.253.59, 2606:4700::6813:fd3b, ...\n",
            "Connecting to www.chp.gov.hk (www.chp.gov.hk)|104.19.254.59|:80... connected.\n",
            "HTTP request sent, awaiting response... 301 Moved Permanently\n",
            "Location: https://www.chp.gov.hk/files/misc/enhanced_sur_covid_19_eng.csv [following]\n",
            "--2020-08-28 06:55:49--  https://www.chp.gov.hk/files/misc/enhanced_sur_covid_19_eng.csv\n",
            "Connecting to www.chp.gov.hk (www.chp.gov.hk)|104.19.254.59|:443... connected.\n",
            "HTTP request sent, awaiting response... 200 OK\n",
            "Length: unspecified [text/csv]\n",
            "Saving to: ‘enhanced_sur_covid_19_eng.csv’\n",
            "\n",
            "enhanced_sur_covid_     [ <=>                ] 433.40K  --.-KB/s    in 0.04s   \n",
            "\n",
            "2020-08-28 06:55:49 (10.7 MB/s) - ‘enhanced_sur_covid_19_eng.csv’ saved [443803]\n",
            "\n",
            "total 444K\n",
            "drwx------ 4 root root 4.0K Aug 28 06:47 drive\n",
            "-rw-r--r-- 1 root root 434K Aug 27 16:15 enhanced_sur_covid_19_eng.csv\n",
            "drwxr-xr-x 1 root root 4.0K Aug 24 16:35 sample_data\n",
            "4757 enhanced_sur_covid_19_eng.csv\n"
          ],
          "name": "stdout"
        }
      ]
    },
    {
      "cell_type": "markdown",
      "metadata": {
        "id": "j0B4xzukRxDM",
        "colab_type": "text"
      },
      "source": [
        "# Import Packages"
      ]
    },
    {
      "cell_type": "code",
      "metadata": {
        "id": "2oBeTR5Ic21U",
        "colab_type": "code",
        "colab": {}
      },
      "source": [
        "'''\n",
        "Normally you do not need to install pandas, uncomment if pandas is missing\n",
        "'''\n",
        "#install pandas \n",
        "#!pip install pandas\n",
        "\n",
        "#load packages\n",
        "import sys \n",
        "import pandas as pd \n",
        "import matplotlib \n",
        "import numpy as np \n",
        "import scipy as sp \n",
        "import IPython\n",
        "import datetime\n",
        "from IPython.display import display\n",
        "\n",
        "#Visualization\n",
        "import matplotlib as mpl\n",
        "import matplotlib.pyplot as plt\n",
        "import matplotlib.pylab as pylab\n",
        "from matplotlib.ticker import MaxNLocator\n",
        "import seaborn as sns\n",
        "from pandas.plotting import scatter_matrix\n",
        "\n",
        "#Configure Visualization Defaults\n",
        "#%matplotlib inline = show plots in Jupyter Notebook browser\n",
        "%matplotlib inline\n",
        "mpl.style.use('ggplot')\n",
        "sns.set_style('white')\n",
        "pylab.rcParams['figure.figsize'] = 12,8\n"
      ],
      "execution_count": 20,
      "outputs": []
    },
    {
      "cell_type": "markdown",
      "metadata": {
        "id": "2OtRpnBHSZEj",
        "colab_type": "text"
      },
      "source": [
        "# Load Data Files\n",
        "\n",
        "##Age group engineering:\n",
        "1. Age is categorized into age_bins. Grouping based on WHO https://www.who.int/healthinfo/paper31.pdf?ua=1\n"
      ]
    },
    {
      "cell_type": "code",
      "metadata": {
        "id": "tV16IYqsKI-K",
        "colab_type": "code",
        "colab": {
          "base_uri": "https://localhost:8080/",
          "height": 272
        },
        "outputId": "1a72f8a1-fa5e-4d2f-f4e5-eec937d8546e"
      },
      "source": [
        "df = pd.read_csv('/content/enhanced_sur_covid_19_eng.csv')\n",
        "df['Report date'] =  pd.to_datetime(df['Report date'], format='%d/%m/%Y')\n",
        "\n",
        "#df1 = pd.read_csv('/content/latest_situation_of_reported_cases_covid_19_eng.csv')\n",
        "\n",
        "#categorize age into age group. age group based on WHO https://www.who.int/healthinfo/paper31.pdf?ua=1\n",
        "ageBin= [0,4,9,14,19,24,29,34,39,44,49,54,59,64,69,74,79,84,89,94,100]\n",
        "df['age_bins'] = pd.cut(x=df['Age'], bins=ageBin)\n",
        "\n",
        "#preview data\n",
        "df.sample(5) \n",
        "\n",
        "#print(df.dtypes)"
      ],
      "execution_count": 21,
      "outputs": [
        {
          "output_type": "execute_result",
          "data": {
            "text/html": [
              "<div>\n",
              "<style scoped>\n",
              "    .dataframe tbody tr th:only-of-type {\n",
              "        vertical-align: middle;\n",
              "    }\n",
              "\n",
              "    .dataframe tbody tr th {\n",
              "        vertical-align: top;\n",
              "    }\n",
              "\n",
              "    .dataframe thead th {\n",
              "        text-align: right;\n",
              "    }\n",
              "</style>\n",
              "<table border=\"1\" class=\"dataframe\">\n",
              "  <thead>\n",
              "    <tr style=\"text-align: right;\">\n",
              "      <th></th>\n",
              "      <th>Case no.</th>\n",
              "      <th>Report date</th>\n",
              "      <th>Date of onset</th>\n",
              "      <th>Gender</th>\n",
              "      <th>Age</th>\n",
              "      <th>Name of hospital admitted</th>\n",
              "      <th>Hospitalised/Discharged/Deceased</th>\n",
              "      <th>HK/Non-HK resident</th>\n",
              "      <th>Case classification*</th>\n",
              "      <th>Confirmed/probable</th>\n",
              "      <th>age_bins</th>\n",
              "    </tr>\n",
              "  </thead>\n",
              "  <tbody>\n",
              "    <tr>\n",
              "      <th>3057</th>\n",
              "      <td>3058</td>\n",
              "      <td>2020-07-30</td>\n",
              "      <td>26/07/2020</td>\n",
              "      <td>M</td>\n",
              "      <td>24</td>\n",
              "      <td>NaN</td>\n",
              "      <td>Discharged</td>\n",
              "      <td>HK Resident</td>\n",
              "      <td>Local case</td>\n",
              "      <td>Confirmed</td>\n",
              "      <td>(19, 24]</td>\n",
              "    </tr>\n",
              "    <tr>\n",
              "      <th>4516</th>\n",
              "      <td>4517</td>\n",
              "      <td>2020-08-17</td>\n",
              "      <td>Asymptomatic</td>\n",
              "      <td>M</td>\n",
              "      <td>54</td>\n",
              "      <td>NaN</td>\n",
              "      <td>Discharged</td>\n",
              "      <td>HK Resident</td>\n",
              "      <td>Epidemiologically linked with local case</td>\n",
              "      <td>Confirmed</td>\n",
              "      <td>(49, 54]</td>\n",
              "    </tr>\n",
              "    <tr>\n",
              "      <th>2389</th>\n",
              "      <td>2390</td>\n",
              "      <td>2020-07-25</td>\n",
              "      <td>23/07/2020</td>\n",
              "      <td>M</td>\n",
              "      <td>60</td>\n",
              "      <td>NaN</td>\n",
              "      <td>Discharged</td>\n",
              "      <td>HK Resident</td>\n",
              "      <td>Epidemiologically linked with local case</td>\n",
              "      <td>Confirmed</td>\n",
              "      <td>(59, 64]</td>\n",
              "    </tr>\n",
              "    <tr>\n",
              "      <th>1856</th>\n",
              "      <td>1857</td>\n",
              "      <td>2020-07-19</td>\n",
              "      <td>14/07/2020</td>\n",
              "      <td>F</td>\n",
              "      <td>47</td>\n",
              "      <td>NaN</td>\n",
              "      <td>Discharged</td>\n",
              "      <td>HK Resident</td>\n",
              "      <td>Local case</td>\n",
              "      <td>Confirmed</td>\n",
              "      <td>(44, 49]</td>\n",
              "    </tr>\n",
              "    <tr>\n",
              "      <th>3565</th>\n",
              "      <td>3566</td>\n",
              "      <td>2020-08-03</td>\n",
              "      <td>Asymptomatic</td>\n",
              "      <td>F</td>\n",
              "      <td>49</td>\n",
              "      <td>NaN</td>\n",
              "      <td>Discharged</td>\n",
              "      <td>HK Resident</td>\n",
              "      <td>Epidemiologically linked with local case</td>\n",
              "      <td>Confirmed</td>\n",
              "      <td>(44, 49]</td>\n",
              "    </tr>\n",
              "  </tbody>\n",
              "</table>\n",
              "</div>"
            ],
            "text/plain": [
              "      Case no. Report date  ... Confirmed/probable  age_bins\n",
              "3057      3058  2020-07-30  ...          Confirmed  (19, 24]\n",
              "4516      4517  2020-08-17  ...          Confirmed  (49, 54]\n",
              "2389      2390  2020-07-25  ...          Confirmed  (59, 64]\n",
              "1856      1857  2020-07-19  ...          Confirmed  (44, 49]\n",
              "3565      3566  2020-08-03  ...          Confirmed  (44, 49]\n",
              "\n",
              "[5 rows x 11 columns]"
            ]
          },
          "metadata": {
            "tags": []
          },
          "execution_count": 21
        }
      ]
    },
    {
      "cell_type": "markdown",
      "metadata": {
        "id": "qfo0zWMPav1H",
        "colab_type": "text"
      },
      "source": [
        "# Data Description"
      ]
    },
    {
      "cell_type": "code",
      "metadata": {
        "id": "Cw-mPNGP28GU",
        "colab_type": "code",
        "colab": {
          "base_uri": "https://localhost:8080/",
          "height": 537
        },
        "outputId": "3155358b-d495-439e-cc98-55a6e31b7693"
      },
      "source": [
        "df.describe(include = 'all')\n"
      ],
      "execution_count": 22,
      "outputs": [
        {
          "output_type": "execute_result",
          "data": {
            "text/html": [
              "<div>\n",
              "<style scoped>\n",
              "    .dataframe tbody tr th:only-of-type {\n",
              "        vertical-align: middle;\n",
              "    }\n",
              "\n",
              "    .dataframe tbody tr th {\n",
              "        vertical-align: top;\n",
              "    }\n",
              "\n",
              "    .dataframe thead th {\n",
              "        text-align: right;\n",
              "    }\n",
              "</style>\n",
              "<table border=\"1\" class=\"dataframe\">\n",
              "  <thead>\n",
              "    <tr style=\"text-align: right;\">\n",
              "      <th></th>\n",
              "      <th>Case no.</th>\n",
              "      <th>Report date</th>\n",
              "      <th>Date of onset</th>\n",
              "      <th>Gender</th>\n",
              "      <th>Age</th>\n",
              "      <th>Name of hospital admitted</th>\n",
              "      <th>Hospitalised/Discharged/Deceased</th>\n",
              "      <th>HK/Non-HK resident</th>\n",
              "      <th>Case classification*</th>\n",
              "      <th>Confirmed/probable</th>\n",
              "      <th>age_bins</th>\n",
              "    </tr>\n",
              "  </thead>\n",
              "  <tbody>\n",
              "    <tr>\n",
              "      <th>count</th>\n",
              "      <td>4756.00000</td>\n",
              "      <td>4756</td>\n",
              "      <td>4756</td>\n",
              "      <td>4756</td>\n",
              "      <td>4756.000000</td>\n",
              "      <td>0.0</td>\n",
              "      <td>4756</td>\n",
              "      <td>4756</td>\n",
              "      <td>4756</td>\n",
              "      <td>4756</td>\n",
              "      <td>4745</td>\n",
              "    </tr>\n",
              "    <tr>\n",
              "      <th>unique</th>\n",
              "      <td>NaN</td>\n",
              "      <td>179</td>\n",
              "      <td>176</td>\n",
              "      <td>2</td>\n",
              "      <td>NaN</td>\n",
              "      <td>NaN</td>\n",
              "      <td>5</td>\n",
              "      <td>5</td>\n",
              "      <td>6</td>\n",
              "      <td>2</td>\n",
              "      <td>20</td>\n",
              "    </tr>\n",
              "    <tr>\n",
              "      <th>top</th>\n",
              "      <td>NaN</td>\n",
              "      <td>2020-07-30 00:00:00</td>\n",
              "      <td>Asymptomatic</td>\n",
              "      <td>F</td>\n",
              "      <td>NaN</td>\n",
              "      <td>NaN</td>\n",
              "      <td>Discharged</td>\n",
              "      <td>HK Resident</td>\n",
              "      <td>Epidemiologically linked with local case</td>\n",
              "      <td>Confirmed</td>\n",
              "      <td>(59, 64]</td>\n",
              "    </tr>\n",
              "    <tr>\n",
              "      <th>freq</th>\n",
              "      <td>NaN</td>\n",
              "      <td>149</td>\n",
              "      <td>1094</td>\n",
              "      <td>2380</td>\n",
              "      <td>NaN</td>\n",
              "      <td>NaN</td>\n",
              "      <td>4200</td>\n",
              "      <td>3247</td>\n",
              "      <td>2124</td>\n",
              "      <td>4755</td>\n",
              "      <td>425</td>\n",
              "    </tr>\n",
              "    <tr>\n",
              "      <th>first</th>\n",
              "      <td>NaN</td>\n",
              "      <td>2020-01-23 00:00:00</td>\n",
              "      <td>NaN</td>\n",
              "      <td>NaN</td>\n",
              "      <td>NaN</td>\n",
              "      <td>NaN</td>\n",
              "      <td>NaN</td>\n",
              "      <td>NaN</td>\n",
              "      <td>NaN</td>\n",
              "      <td>NaN</td>\n",
              "      <td>NaN</td>\n",
              "    </tr>\n",
              "    <tr>\n",
              "      <th>last</th>\n",
              "      <td>NaN</td>\n",
              "      <td>2020-08-27 00:00:00</td>\n",
              "      <td>NaN</td>\n",
              "      <td>NaN</td>\n",
              "      <td>NaN</td>\n",
              "      <td>NaN</td>\n",
              "      <td>NaN</td>\n",
              "      <td>NaN</td>\n",
              "      <td>NaN</td>\n",
              "      <td>NaN</td>\n",
              "      <td>NaN</td>\n",
              "    </tr>\n",
              "    <tr>\n",
              "      <th>mean</th>\n",
              "      <td>2378.50000</td>\n",
              "      <td>NaN</td>\n",
              "      <td>NaN</td>\n",
              "      <td>NaN</td>\n",
              "      <td>44.072330</td>\n",
              "      <td>NaN</td>\n",
              "      <td>NaN</td>\n",
              "      <td>NaN</td>\n",
              "      <td>NaN</td>\n",
              "      <td>NaN</td>\n",
              "      <td>NaN</td>\n",
              "    </tr>\n",
              "    <tr>\n",
              "      <th>std</th>\n",
              "      <td>1373.08327</td>\n",
              "      <td>NaN</td>\n",
              "      <td>NaN</td>\n",
              "      <td>NaN</td>\n",
              "      <td>20.304046</td>\n",
              "      <td>NaN</td>\n",
              "      <td>NaN</td>\n",
              "      <td>NaN</td>\n",
              "      <td>NaN</td>\n",
              "      <td>NaN</td>\n",
              "      <td>NaN</td>\n",
              "    </tr>\n",
              "    <tr>\n",
              "      <th>min</th>\n",
              "      <td>1.00000</td>\n",
              "      <td>NaN</td>\n",
              "      <td>NaN</td>\n",
              "      <td>NaN</td>\n",
              "      <td>0.000000</td>\n",
              "      <td>NaN</td>\n",
              "      <td>NaN</td>\n",
              "      <td>NaN</td>\n",
              "      <td>NaN</td>\n",
              "      <td>NaN</td>\n",
              "      <td>NaN</td>\n",
              "    </tr>\n",
              "    <tr>\n",
              "      <th>25%</th>\n",
              "      <td>1189.75000</td>\n",
              "      <td>NaN</td>\n",
              "      <td>NaN</td>\n",
              "      <td>NaN</td>\n",
              "      <td>28.000000</td>\n",
              "      <td>NaN</td>\n",
              "      <td>NaN</td>\n",
              "      <td>NaN</td>\n",
              "      <td>NaN</td>\n",
              "      <td>NaN</td>\n",
              "      <td>NaN</td>\n",
              "    </tr>\n",
              "    <tr>\n",
              "      <th>50%</th>\n",
              "      <td>2378.50000</td>\n",
              "      <td>NaN</td>\n",
              "      <td>NaN</td>\n",
              "      <td>NaN</td>\n",
              "      <td>44.000000</td>\n",
              "      <td>NaN</td>\n",
              "      <td>NaN</td>\n",
              "      <td>NaN</td>\n",
              "      <td>NaN</td>\n",
              "      <td>NaN</td>\n",
              "      <td>NaN</td>\n",
              "    </tr>\n",
              "    <tr>\n",
              "      <th>75%</th>\n",
              "      <td>3567.25000</td>\n",
              "      <td>NaN</td>\n",
              "      <td>NaN</td>\n",
              "      <td>NaN</td>\n",
              "      <td>60.000000</td>\n",
              "      <td>NaN</td>\n",
              "      <td>NaN</td>\n",
              "      <td>NaN</td>\n",
              "      <td>NaN</td>\n",
              "      <td>NaN</td>\n",
              "      <td>NaN</td>\n",
              "    </tr>\n",
              "    <tr>\n",
              "      <th>max</th>\n",
              "      <td>4756.00000</td>\n",
              "      <td>NaN</td>\n",
              "      <td>NaN</td>\n",
              "      <td>NaN</td>\n",
              "      <td>100.000000</td>\n",
              "      <td>NaN</td>\n",
              "      <td>NaN</td>\n",
              "      <td>NaN</td>\n",
              "      <td>NaN</td>\n",
              "      <td>NaN</td>\n",
              "      <td>NaN</td>\n",
              "    </tr>\n",
              "  </tbody>\n",
              "</table>\n",
              "</div>"
            ],
            "text/plain": [
              "          Case no.          Report date  ... Confirmed/probable  age_bins\n",
              "count   4756.00000                 4756  ...               4756      4745\n",
              "unique         NaN                  179  ...                  2        20\n",
              "top            NaN  2020-07-30 00:00:00  ...          Confirmed  (59, 64]\n",
              "freq           NaN                  149  ...               4755       425\n",
              "first          NaN  2020-01-23 00:00:00  ...                NaN       NaN\n",
              "last           NaN  2020-08-27 00:00:00  ...                NaN       NaN\n",
              "mean    2378.50000                  NaN  ...                NaN       NaN\n",
              "std     1373.08327                  NaN  ...                NaN       NaN\n",
              "min        1.00000                  NaN  ...                NaN       NaN\n",
              "25%     1189.75000                  NaN  ...                NaN       NaN\n",
              "50%     2378.50000                  NaN  ...                NaN       NaN\n",
              "75%     3567.25000                  NaN  ...                NaN       NaN\n",
              "max     4756.00000                  NaN  ...                NaN       NaN\n",
              "\n",
              "[13 rows x 11 columns]"
            ]
          },
          "metadata": {
            "tags": []
          },
          "execution_count": 22
        }
      ]
    },
    {
      "cell_type": "markdown",
      "metadata": {
        "id": "3f_D4cuxa-RK",
        "colab_type": "text"
      },
      "source": [
        "#Statistics - Gender"
      ]
    },
    {
      "cell_type": "code",
      "metadata": {
        "id": "1VvBBnD226tm",
        "colab_type": "code",
        "colab": {
          "base_uri": "https://localhost:8080/",
          "height": 1000
        },
        "outputId": "18525bfa-dbb9-4d6a-a877-12183c059ae1"
      },
      "source": [
        "ax1 = df.groupby(['age_bins']).size().plot(title='COVID19 - Age Group Distribution', kind='bar')\n",
        "ax1.set(ylabel='No. of infections')\n",
        "\n",
        "#df.groupby(['Hospitalised/Discharged/Deceased']).size().plot(title='COVID19 Gender Distribution', kind='bar')\n",
        "#df.groupby(['Gender']).size().plot(title='COVID19 Gender Distribution', kind='bar')\n",
        "\n",
        "\n",
        "ax2 = pd.crosstab(df['age_bins'],df['Gender']).plot(title='COVID19 - Age Group & Gender Distribution', kind='bar')\n",
        "ax2.set(ylabel='No. of infections')\n",
        "\n",
        "#pd.crosstab(df['Gender'],df['Hospitalised/Discharged/Deceased']).plot.bar()\n"
      ],
      "execution_count": 23,
      "outputs": [
        {
          "output_type": "execute_result",
          "data": {
            "text/plain": [
              "[Text(0, 0.5, 'No. of infections')]"
            ]
          },
          "metadata": {
            "tags": []
          },
          "execution_count": 23
        },
        {
          "output_type": "display_data",
          "data": {
            "image/png": "[encoded data removed]",
            "text/plain": [
              "<Figure size 864x576 with 1 Axes>"
            ]
          },
          "metadata": {
            "tags": []
          }
        },
        {
          "output_type": "display_data",
          "data": {
            "image/png": "[encoded data removed]",
            "text/plain": [
              "<Figure size 864x576 with 1 Axes>"
            ]
          },
          "metadata": {
            "tags": []
          }
        }
      ]
    },
    {
      "cell_type": "markdown",
      "metadata": {
        "id": "8_6uQ6CrZ5XR",
        "colab_type": "text"
      },
      "source": [
        "# Statistics - Case Fatality Rate\n",
        "In epidemiology, a case fatality rate (CFR) — sometimes called case fatality risk or case-fatality ratio — is the proportion of deaths from a certain disease compared to the total number of people diagnosed with the disease for a particular period. \n",
        "\n",
        "https://en.wikipedia.org/wiki/Case_fatality_rate"
      ]
    },
    {
      "cell_type": "code",
      "metadata": {
        "id": "LxvWbSotC2Q3",
        "colab_type": "code",
        "colab": {
          "base_uri": "https://localhost:8080/",
          "height": 616
        },
        "outputId": "101bd0c2-6c04-4fd4-8f05-f13a677c0896"
      },
      "source": [
        "#No. of deceased per Age group\n",
        "df_deceased = df[df['Hospitalised/Discharged/Deceased']=='Deceased']\n",
        "\n",
        "m_rate = round(len(df_deceased) / len(df), 4)\n",
        "display(IPython.display.HTML('<h2>Case fatality rate: ' + str(m_rate) + '</h2>'))\n",
        "\n",
        "#case fatality rate\n",
        "df_ratio = pd.crosstab(df['age_bins'],df['Hospitalised/Discharged/Deceased']).apply(lambda r: r/r.sum(), axis=1)\n",
        "ax=df_ratio[['Deceased']].plot(title='Mortality rate per age group', kind='bar')\n",
        "ax.set(ylabel='Case Fatality Rate')\n"
      ],
      "execution_count": 24,
      "outputs": [
        {
          "output_type": "display_data",
          "data": {
            "text/html": [
              "<h2>Case fatality rate: 0.0166</h2>"
            ],
            "text/plain": [
              "<IPython.core.display.HTML object>"
            ]
          },
          "metadata": {
            "tags": []
          }
        },
        {
          "output_type": "execute_result",
          "data": {
            "text/plain": [
              "[Text(0, 0.5, 'Case Fatality Rate')]"
            ]
          },
          "metadata": {
            "tags": []
          },
          "execution_count": 24
        },
        {
          "output_type": "display_data",
          "data": {
            "image/png": "[encoded data removed]",
            "text/plain": [
              "<Figure size 864x576 with 1 Axes>"
            ]
          },
          "metadata": {
            "tags": []
          }
        }
      ]
    },
    {
      "cell_type": "code",
      "metadata": {
        "id": "L2-ScH6EEz_Q",
        "colab_type": "code",
        "colab": {
          "base_uri": "https://localhost:8080/",
          "height": 1000
        },
        "outputId": "f2aca94f-f715-4569-e8d7-627333c5dbfb"
      },
      "source": [
        "display(IPython.display.HTML('<h2> Total no. of deceased: ' + str(len(df_deceased)) +  '</h2>'))\n",
        "\n",
        "display(df_deceased.groupby(['Hospitalised/Discharged/Deceased','age_bins']).size())\n",
        "ax=df_deceased.groupby(['Hospitalised/Discharged/Deceased','age_bins']).size().plot(title='No. of deceased per age group', kind='bar')\n",
        "ax.set(ylabel='No. of deceased case')\n",
        "ax.yaxis.set_major_locator(MaxNLocator(integer=True))\n"
      ],
      "execution_count": 25,
      "outputs": [
        {
          "output_type": "display_data",
          "data": {
            "text/html": [
              "<h2> Total no. of deceased: 79</h2>"
            ],
            "text/plain": [
              "<IPython.core.display.HTML object>"
            ]
          },
          "metadata": {
            "tags": []
          }
        },
        {
          "output_type": "display_data",
          "data": {
            "text/plain": [
              "Hospitalised/Discharged/Deceased  age_bins \n",
              "Deceased                          (0, 4]        0\n",
              "                                  (4, 9]        0\n",
              "                                  (9, 14]       0\n",
              "                                  (14, 19]      0\n",
              "                                  (19, 24]      0\n",
              "                                  (24, 29]      0\n",
              "                                  (29, 34]      0\n",
              "                                  (34, 39]      1\n",
              "                                  (39, 44]      0\n",
              "                                  (44, 49]      0\n",
              "                                  (49, 54]      0\n",
              "                                  (54, 59]      1\n",
              "                                  (59, 64]      3\n",
              "                                  (64, 69]      2\n",
              "                                  (69, 74]      8\n",
              "                                  (74, 79]     14\n",
              "                                  (79, 84]     14\n",
              "                                  (84, 89]     20\n",
              "                                  (89, 94]     13\n",
              "                                  (94, 100]     3\n",
              "dtype: int64"
            ]
          },
          "metadata": {
            "tags": []
          }
        },
        {
          "output_type": "display_data",
          "data": {
            "image/png": "[encoded data removed]",
            "text/plain": [
              "<Figure size 864x576 with 1 Axes>"
            ]
          },
          "metadata": {
            "tags": []
          }
        }
      ]
    },
    {
      "cell_type": "code",
      "metadata": {
        "id": "ciTXqWh2QBDz",
        "colab_type": "code",
        "colab": {
          "base_uri": "https://localhost:8080/",
          "height": 700
        },
        "outputId": "0bd851ac-42af-44d8-9866-68424acfbca9"
      },
      "source": [
        "#Ratio Breakdown\n",
        "display(df_ratio)\n",
        "\n"
      ],
      "execution_count": 26,
      "outputs": [
        {
          "output_type": "display_data",
          "data": {
            "text/html": [
              "<div>\n",
              "<style scoped>\n",
              "    .dataframe tbody tr th:only-of-type {\n",
              "        vertical-align: middle;\n",
              "    }\n",
              "\n",
              "    .dataframe tbody tr th {\n",
              "        vertical-align: top;\n",
              "    }\n",
              "\n",
              "    .dataframe thead th {\n",
              "        text-align: right;\n",
              "    }\n",
              "</style>\n",
              "<table border=\"1\" class=\"dataframe\">\n",
              "  <thead>\n",
              "    <tr style=\"text-align: right;\">\n",
              "      <th>Hospitalised/Discharged/Deceased</th>\n",
              "      <th>Deceased</th>\n",
              "      <th>Discharged</th>\n",
              "      <th>Hospitalised</th>\n",
              "      <th>No admission</th>\n",
              "      <th>To be provided</th>\n",
              "    </tr>\n",
              "    <tr>\n",
              "      <th>age_bins</th>\n",
              "      <th></th>\n",
              "      <th></th>\n",
              "      <th></th>\n",
              "      <th></th>\n",
              "      <th></th>\n",
              "    </tr>\n",
              "  </thead>\n",
              "  <tbody>\n",
              "    <tr>\n",
              "      <th>(0, 4]</th>\n",
              "      <td>0.000000</td>\n",
              "      <td>0.898876</td>\n",
              "      <td>0.101124</td>\n",
              "      <td>0.000000</td>\n",
              "      <td>0.000000</td>\n",
              "    </tr>\n",
              "    <tr>\n",
              "      <th>(4, 9]</th>\n",
              "      <td>0.000000</td>\n",
              "      <td>0.919540</td>\n",
              "      <td>0.080460</td>\n",
              "      <td>0.000000</td>\n",
              "      <td>0.000000</td>\n",
              "    </tr>\n",
              "    <tr>\n",
              "      <th>(9, 14]</th>\n",
              "      <td>0.000000</td>\n",
              "      <td>0.927928</td>\n",
              "      <td>0.054054</td>\n",
              "      <td>0.000000</td>\n",
              "      <td>0.018018</td>\n",
              "    </tr>\n",
              "    <tr>\n",
              "      <th>(14, 19]</th>\n",
              "      <td>0.000000</td>\n",
              "      <td>0.953586</td>\n",
              "      <td>0.037975</td>\n",
              "      <td>0.004219</td>\n",
              "      <td>0.004219</td>\n",
              "    </tr>\n",
              "    <tr>\n",
              "      <th>(19, 24]</th>\n",
              "      <td>0.000000</td>\n",
              "      <td>0.934509</td>\n",
              "      <td>0.055416</td>\n",
              "      <td>0.005038</td>\n",
              "      <td>0.005038</td>\n",
              "    </tr>\n",
              "    <tr>\n",
              "      <th>(24, 29]</th>\n",
              "      <td>0.000000</td>\n",
              "      <td>0.924870</td>\n",
              "      <td>0.051813</td>\n",
              "      <td>0.018135</td>\n",
              "      <td>0.005181</td>\n",
              "    </tr>\n",
              "    <tr>\n",
              "      <th>(29, 34]</th>\n",
              "      <td>0.000000</td>\n",
              "      <td>0.942029</td>\n",
              "      <td>0.034783</td>\n",
              "      <td>0.017391</td>\n",
              "      <td>0.005797</td>\n",
              "    </tr>\n",
              "    <tr>\n",
              "      <th>(34, 39]</th>\n",
              "      <td>0.002415</td>\n",
              "      <td>0.920290</td>\n",
              "      <td>0.065217</td>\n",
              "      <td>0.009662</td>\n",
              "      <td>0.002415</td>\n",
              "    </tr>\n",
              "    <tr>\n",
              "      <th>(39, 44]</th>\n",
              "      <td>0.000000</td>\n",
              "      <td>0.929379</td>\n",
              "      <td>0.064972</td>\n",
              "      <td>0.000000</td>\n",
              "      <td>0.005650</td>\n",
              "    </tr>\n",
              "    <tr>\n",
              "      <th>(44, 49]</th>\n",
              "      <td>0.000000</td>\n",
              "      <td>0.914286</td>\n",
              "      <td>0.077143</td>\n",
              "      <td>0.005714</td>\n",
              "      <td>0.002857</td>\n",
              "    </tr>\n",
              "    <tr>\n",
              "      <th>(49, 54]</th>\n",
              "      <td>0.000000</td>\n",
              "      <td>0.906158</td>\n",
              "      <td>0.082111</td>\n",
              "      <td>0.000000</td>\n",
              "      <td>0.011730</td>\n",
              "    </tr>\n",
              "    <tr>\n",
              "      <th>(54, 59]</th>\n",
              "      <td>0.002370</td>\n",
              "      <td>0.909953</td>\n",
              "      <td>0.080569</td>\n",
              "      <td>0.002370</td>\n",
              "      <td>0.004739</td>\n",
              "    </tr>\n",
              "    <tr>\n",
              "      <th>(59, 64]</th>\n",
              "      <td>0.007059</td>\n",
              "      <td>0.847059</td>\n",
              "      <td>0.136471</td>\n",
              "      <td>0.009412</td>\n",
              "      <td>0.000000</td>\n",
              "    </tr>\n",
              "    <tr>\n",
              "      <th>(64, 69]</th>\n",
              "      <td>0.006711</td>\n",
              "      <td>0.865772</td>\n",
              "      <td>0.127517</td>\n",
              "      <td>0.000000</td>\n",
              "      <td>0.000000</td>\n",
              "    </tr>\n",
              "    <tr>\n",
              "      <th>(69, 74]</th>\n",
              "      <td>0.041667</td>\n",
              "      <td>0.781250</td>\n",
              "      <td>0.177083</td>\n",
              "      <td>0.000000</td>\n",
              "      <td>0.000000</td>\n",
              "    </tr>\n",
              "    <tr>\n",
              "      <th>(74, 79]</th>\n",
              "      <td>0.141414</td>\n",
              "      <td>0.585859</td>\n",
              "      <td>0.262626</td>\n",
              "      <td>0.000000</td>\n",
              "      <td>0.010101</td>\n",
              "    </tr>\n",
              "    <tr>\n",
              "      <th>(79, 84]</th>\n",
              "      <td>0.179487</td>\n",
              "      <td>0.538462</td>\n",
              "      <td>0.282051</td>\n",
              "      <td>0.000000</td>\n",
              "      <td>0.000000</td>\n",
              "    </tr>\n",
              "    <tr>\n",
              "      <th>(84, 89]</th>\n",
              "      <td>0.307692</td>\n",
              "      <td>0.461538</td>\n",
              "      <td>0.215385</td>\n",
              "      <td>0.000000</td>\n",
              "      <td>0.015385</td>\n",
              "    </tr>\n",
              "    <tr>\n",
              "      <th>(89, 94]</th>\n",
              "      <td>0.288889</td>\n",
              "      <td>0.466667</td>\n",
              "      <td>0.244444</td>\n",
              "      <td>0.000000</td>\n",
              "      <td>0.000000</td>\n",
              "    </tr>\n",
              "    <tr>\n",
              "      <th>(94, 100]</th>\n",
              "      <td>0.300000</td>\n",
              "      <td>0.500000</td>\n",
              "      <td>0.200000</td>\n",
              "      <td>0.000000</td>\n",
              "      <td>0.000000</td>\n",
              "    </tr>\n",
              "  </tbody>\n",
              "</table>\n",
              "</div>"
            ],
            "text/plain": [
              "Hospitalised/Discharged/Deceased  Deceased  ...  To be provided\n",
              "age_bins                                    ...                \n",
              "(0, 4]                            0.000000  ...        0.000000\n",
              "(4, 9]                            0.000000  ...        0.000000\n",
              "(9, 14]                           0.000000  ...        0.018018\n",
              "(14, 19]                          0.000000  ...        0.004219\n",
              "(19, 24]                          0.000000  ...        0.005038\n",
              "(24, 29]                          0.000000  ...        0.005181\n",
              "(29, 34]                          0.000000  ...        0.005797\n",
              "(34, 39]                          0.002415  ...        0.002415\n",
              "(39, 44]                          0.000000  ...        0.005650\n",
              "(44, 49]                          0.000000  ...        0.002857\n",
              "(49, 54]                          0.000000  ...        0.011730\n",
              "(54, 59]                          0.002370  ...        0.004739\n",
              "(59, 64]                          0.007059  ...        0.000000\n",
              "(64, 69]                          0.006711  ...        0.000000\n",
              "(69, 74]                          0.041667  ...        0.000000\n",
              "(74, 79]                          0.141414  ...        0.010101\n",
              "(79, 84]                          0.179487  ...        0.000000\n",
              "(84, 89]                          0.307692  ...        0.015385\n",
              "(89, 94]                          0.288889  ...        0.000000\n",
              "(94, 100]                         0.300000  ...        0.000000\n",
              "\n",
              "[20 rows x 5 columns]"
            ]
          },
          "metadata": {
            "tags": []
          }
        }
      ]
    },
    {
      "cell_type": "code",
      "metadata": {
        "id": "7q9FtdZ3SnBt",
        "colab_type": "code",
        "colab": {
          "base_uri": "https://localhost:8080/",
          "height": 782
        },
        "outputId": "5e7fdf12-5b60-4b27-f209-dfa2eb25f2fd"
      },
      "source": [
        "df_7days = df[df['Report date'] > datetime.datetime.now() - pd.to_timedelta(\"8day\")]\n",
        "df_7days_grouped = df_7days.groupby(['Report date']).size()\n",
        "\n",
        "display(df_7days_grouped)\n",
        "\n",
        "ax = df_7days_grouped.plot(title='COVID19 Trend', kind='bar')\n",
        "ax.set(ylabel='No. of infections')\n",
        "\n"
      ],
      "execution_count": 27,
      "outputs": [
        {
          "output_type": "display_data",
          "data": {
            "text/plain": [
              "Report date\n",
              "2020-08-21    27\n",
              "2020-08-22    26\n",
              "2020-08-23    25\n",
              "2020-08-24     9\n",
              "2020-08-25    19\n",
              "2020-08-26    24\n",
              "2020-08-27    21\n",
              "dtype: int64"
            ]
          },
          "metadata": {
            "tags": []
          }
        },
        {
          "output_type": "execute_result",
          "data": {
            "text/plain": [
              "[Text(0, 0.5, 'No. of infections')]"
            ]
          },
          "metadata": {
            "tags": []
          },
          "execution_count": 27
        },
        {
          "output_type": "display_data",
          "data": {
            "image/png": "[encoded data removed]",
            "text/plain": [
              "<Figure size 864x576 with 1 Axes>"
            ]
          },
          "metadata": {
            "tags": []
          }
        }
      ]
    }
  ]
}